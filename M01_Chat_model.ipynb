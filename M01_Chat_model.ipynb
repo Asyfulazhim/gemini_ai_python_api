{
 "cells": [
  {
   "cell_type": "markdown",
   "id": "954f180f-53c1-4eaf-b28a-5fb398779826",
   "metadata": {},
   "source": [
    "# Chat Conversations\n",
    "Gemini also has the ability to carry on a conversation, where you can send messages and have a history of replies, so that Gemini can have context."
   ]
  },
  {
   "cell_type": "code",
   "execution_count": 1,
   "id": "cd21a6b8-3424-4aae-9711-1b01aed852b9",
   "metadata": {},
   "outputs": [],
   "source": [
    "import google.generativeai as genai"
   ]
  },
  {
   "cell_type": "code",
   "execution_count": 2,
   "id": "f2416db9-e563-4737-bad2-f12e4cab6453",
   "metadata": {},
   "outputs": [],
   "source": [
    "api_key = ''"
   ]
  },
  {
   "cell_type": "code",
   "execution_count": 3,
   "id": "5b5c2cf5-57dc-48dc-9a9c-43f7898494a0",
   "metadata": {},
   "outputs": [],
   "source": [
    "genai.configure(api_key=api_key)"
   ]
  },
  {
   "cell_type": "code",
   "execution_count": 4,
   "id": "d7c1516c-2122-47f5-8c99-169ada35f3f5",
   "metadata": {},
   "outputs": [],
   "source": [
    "model = genai.GenerativeModel('gemini-pro')"
   ]
  },
  {
   "cell_type": "code",
   "execution_count": 5,
   "id": "1d095970-ed28-4cd7-995a-5787f3ac475d",
   "metadata": {},
   "outputs": [],
   "source": [
    "chat = model.start_chat()"
   ]
  },
  {
   "cell_type": "code",
   "execution_count": 6,
   "id": "9a31e35c-0069-489b-b00a-fddf4fe58b13",
   "metadata": {},
   "outputs": [
    {
     "data": {
      "text/plain": [
       "google.generativeai.generative_models.ChatSession"
      ]
     },
     "execution_count": 6,
     "metadata": {},
     "output_type": "execute_result"
    }
   ],
   "source": [
    "type(chat)"
   ]
  },
  {
   "cell_type": "markdown",
   "id": "8eb19aad-00b0-4a71-a5ca-99e1c3d158de",
   "metadata": {},
   "source": [
    "Sending a message can be achieved using `response = chat.send_message(message)`"
   ]
  },
  {
   "cell_type": "code",
   "execution_count": 7,
   "id": "cf700066-ab57-4689-9daa-9c09713541d5",
   "metadata": {},
   "outputs": [],
   "source": [
    "response = chat.send_message('Help me plan my trip to Japan')"
   ]
  },
  {
   "cell_type": "code",
   "execution_count": 8,
   "id": "f1fb91d1-d0af-4fb4-9b7e-c3b08271a338",
   "metadata": {},
   "outputs": [
    {
     "name": "stdout",
     "output_type": "stream",
     "text": [
      "**Step 1: Determine Travel Period and Budget**\n",
      "\n",
      "* Consider the best time of year to visit Japan based on weather and events.\n",
      "* Spring (March-May) and Autumn (September-November) offer mild temperatures and vibrant scenery.\n",
      "* Set a budget that includes flights, accommodation, food, transportation, and activities.\n",
      "\n",
      "**Step 2: Secure Flights and Accommodation**\n",
      "\n",
      "* Book flights to major cities like Tokyo, Osaka, or Kyoto.\n",
      "* Explore various accommodation options such as hotels, guesthouses, and Airbnb.\n",
      "* Consider using a travel agent or online booking platforms for convenience.\n",
      "\n",
      "**Step 3: Plan Your Itinerary**\n",
      "\n",
      "* Identify must-visit attractions and cities based on your interests.\n",
      "* Consider using a Japan Rail Pass if you plan to travel extensively by train.\n",
      "* Allocate time for cultural experiences such as visiting temples, shrines, and traditional baths.\n",
      "* Don't forget to include time for shopping, dining, and exploring hidden gems.\n",
      "\n",
      "**Step 4: Research Transportation Options**\n",
      "\n",
      "* Japan has an excellent public transportation system.\n",
      "* Familiarize yourself with the Japan Rail Network (JR) and local metro systems.\n",
      "* Consider purchasing a Suica or Pasmo card for convenient fare payment.\n",
      "* Explore rental car options if you prefer flexibility.\n",
      "\n",
      "**Step 5: Visa Requirements and Currency Exchange**\n",
      "\n",
      "* Check if you need a visa to enter Japan based on your nationality.\n",
      "* Exchange currency before your trip or use ATMs in Japan.\n",
      "* Japan primarily uses the Japanese Yen (JPY).\n",
      "\n",
      "**Step 6: Pack Essentials and Learn Basic Phrases**\n",
      "\n",
      "* Pack for Japan's temperate climate and respect cultural customs.\n",
      "* Learn basic Japanese phrases such as \"hello,\" \"thank you,\" and \"excuse me.\"\n",
      "* Download translation apps for additional assistance.\n",
      "\n",
      "**Step 7: Plan for Activities and Dining**\n",
      "\n",
      "* Explore unique experiences such as visiting Ghibli Museum, taking a kimono dressing class, or attending a traditional tea ceremony.\n",
      "* Sample Japanese cuisine, including sushi, ramen, and tempura.\n",
      "* Make reservations for popular restaurants, especially during peak season.\n",
      "\n",
      "**Additional Tips:**\n",
      "\n",
      "* Purchase travel insurance for peace of mind.\n",
      "* Be respectful of Japanese culture and customs.\n",
      "* Learn about local etiquette, such as removing shoes indoors.\n",
      "* Take advantage of free Wi-Fi in public areas.\n",
      "* Consider a sim card for your phone for convenient internet access.\n",
      "* Enjoy the unique and unforgettable experience that Japan has to offer!\n"
     ]
    }
   ],
   "source": [
    "print(response.text)"
   ]
  },
  {
   "cell_type": "code",
   "execution_count": 9,
   "id": "4da62d3f-ce6e-42d3-a81b-6e9a78c897f4",
   "metadata": {},
   "outputs": [
    {
     "data": {
      "text/plain": [
       "[parts {\n",
       "   text: \"Help me plan my trip to Japan\"\n",
       " }\n",
       " role: \"user\",\n",
       " parts {\n",
       "   text: \"**Step 1: Determine Travel Period and Budget**\\n\\n* Consider the best time of year to visit Japan based on weather and events.\\n* Spring (March-May) and Autumn (September-November) offer mild temperatures and vibrant scenery.\\n* Set a budget that includes flights, accommodation, food, transportation, and activities.\\n\\n**Step 2: Secure Flights and Accommodation**\\n\\n* Book flights to major cities like Tokyo, Osaka, or Kyoto.\\n* Explore various accommodation options such as hotels, guesthouses, and Airbnb.\\n* Consider using a travel agent or online booking platforms for convenience.\\n\\n**Step 3: Plan Your Itinerary**\\n\\n* Identify must-visit attractions and cities based on your interests.\\n* Consider using a Japan Rail Pass if you plan to travel extensively by train.\\n* Allocate time for cultural experiences such as visiting temples, shrines, and traditional baths.\\n* Don\\'t forget to include time for shopping, dining, and exploring hidden gems.\\n\\n**Step 4: Research Transportation Options**\\n\\n* Japan has an excellent public transportation system.\\n* Familiarize yourself with the Japan Rail Network (JR) and local metro systems.\\n* Consider purchasing a Suica or Pasmo card for convenient fare payment.\\n* Explore rental car options if you prefer flexibility.\\n\\n**Step 5: Visa Requirements and Currency Exchange**\\n\\n* Check if you need a visa to enter Japan based on your nationality.\\n* Exchange currency before your trip or use ATMs in Japan.\\n* Japan primarily uses the Japanese Yen (JPY).\\n\\n**Step 6: Pack Essentials and Learn Basic Phrases**\\n\\n* Pack for Japan\\'s temperate climate and respect cultural customs.\\n* Learn basic Japanese phrases such as \\\"hello,\\\" \\\"thank you,\\\" and \\\"excuse me.\\\"\\n* Download translation apps for additional assistance.\\n\\n**Step 7: Plan for Activities and Dining**\\n\\n* Explore unique experiences such as visiting Ghibli Museum, taking a kimono dressing class, or attending a traditional tea ceremony.\\n* Sample Japanese cuisine, including sushi, ramen, and tempura.\\n* Make reservations for popular restaurants, especially during peak season.\\n\\n**Additional Tips:**\\n\\n* Purchase travel insurance for peace of mind.\\n* Be respectful of Japanese culture and customs.\\n* Learn about local etiquette, such as removing shoes indoors.\\n* Take advantage of free Wi-Fi in public areas.\\n* Consider a sim card for your phone for convenient internet access.\\n* Enjoy the unique and unforgettable experience that Japan has to offer!\"\n",
       " }\n",
       " role: \"model\"]"
      ]
     },
     "execution_count": 9,
     "metadata": {},
     "output_type": "execute_result"
    }
   ],
   "source": [
    "chat.history"
   ]
  },
  {
   "cell_type": "markdown",
   "id": "37a4c604-e9aa-4635-87b6-e7a3bb1db08c",
   "metadata": {},
   "source": [
    "### Continue the conversation\n",
    "\n",
    "To continue the conversation, we simply call `.send_message()` again:"
   ]
  },
  {
   "cell_type": "code",
   "execution_count": 10,
   "id": "28a9ca49-53e5-4cb2-8944-bb94cf84aa1a",
   "metadata": {},
   "outputs": [
    {
     "name": "stdout",
     "output_type": "stream",
     "text": [
      "**Learn about local etiquette, such as removing shoes indoors.**\n",
      "\n",
      "In Japan, it is considered rude to wear shoes indoors. This custom is rooted in the belief that shoes are dirty and should not be brought into the clean living spaces of homes and certain public places.\n",
      "\n",
      "**When to remove your shoes:**\n",
      "\n",
      "* Always remove your shoes before entering a Japanese home, temple, shrine, or traditional tea house.\n",
      "* Look for a designated \"genkan\" area at the entrance where you can leave your shoes.\n",
      "* Place your shoes neatly facing the doorway.\n",
      "* Wear clean socks or slippers that are provided by the host or establishment.\n",
      "\n",
      "**Other etiquette tips:**\n",
      "\n",
      "* Avoid pointing at people or things with your finger.\n",
      "* Use chopsticks correctly and don't stick them vertically into your food.\n",
      "* Don't blow your nose in public.\n",
      "* Cover your mouth and nose when coughing or sneezing.\n",
      "* Be mindful of noise levels and avoid talking too loudly in public.\n",
      "* Respect personal space and avoid crowding people.\n",
      "* Follow the rules and queues at attractions and public transportation.\n",
      "\n",
      "**Consequences of not following etiquette:**\n",
      "\n",
      "While most Japanese people are polite and understanding, not following local etiquette can cause offense or embarrassment. You may be asked to leave a home or establishment if you do not remove your shoes.\n",
      "\n",
      "**Tips for remembering:**\n",
      "\n",
      "* Make it a habit to remove your shoes whenever you enter a building.\n",
      "* Pay attention to signs or instructions that indicate whether shoes should be removed.\n",
      "* If you're unsure, it's always better to err on the side of caution and remove your shoes.\n"
     ]
    }
   ],
   "source": [
    "response = chat.send_message('Give me more detail, about your second last point')\n",
    "print(response.text)"
   ]
  },
  {
   "cell_type": "code",
   "execution_count": 11,
   "id": "e130c247-009e-49f3-b45f-b537788aa07e",
   "metadata": {},
   "outputs": [
    {
     "data": {
      "text/plain": [
       "[parts {\n",
       "   text: \"Help me plan my trip to Japan\"\n",
       " }\n",
       " role: \"user\",\n",
       " parts {\n",
       "   text: \"**Step 1: Determine Travel Period and Budget**\\n\\n* Consider the best time of year to visit Japan based on weather and events.\\n* Spring (March-May) and Autumn (September-November) offer mild temperatures and vibrant scenery.\\n* Set a budget that includes flights, accommodation, food, transportation, and activities.\\n\\n**Step 2: Secure Flights and Accommodation**\\n\\n* Book flights to major cities like Tokyo, Osaka, or Kyoto.\\n* Explore various accommodation options such as hotels, guesthouses, and Airbnb.\\n* Consider using a travel agent or online booking platforms for convenience.\\n\\n**Step 3: Plan Your Itinerary**\\n\\n* Identify must-visit attractions and cities based on your interests.\\n* Consider using a Japan Rail Pass if you plan to travel extensively by train.\\n* Allocate time for cultural experiences such as visiting temples, shrines, and traditional baths.\\n* Don\\'t forget to include time for shopping, dining, and exploring hidden gems.\\n\\n**Step 4: Research Transportation Options**\\n\\n* Japan has an excellent public transportation system.\\n* Familiarize yourself with the Japan Rail Network (JR) and local metro systems.\\n* Consider purchasing a Suica or Pasmo card for convenient fare payment.\\n* Explore rental car options if you prefer flexibility.\\n\\n**Step 5: Visa Requirements and Currency Exchange**\\n\\n* Check if you need a visa to enter Japan based on your nationality.\\n* Exchange currency before your trip or use ATMs in Japan.\\n* Japan primarily uses the Japanese Yen (JPY).\\n\\n**Step 6: Pack Essentials and Learn Basic Phrases**\\n\\n* Pack for Japan\\'s temperate climate and respect cultural customs.\\n* Learn basic Japanese phrases such as \\\"hello,\\\" \\\"thank you,\\\" and \\\"excuse me.\\\"\\n* Download translation apps for additional assistance.\\n\\n**Step 7: Plan for Activities and Dining**\\n\\n* Explore unique experiences such as visiting Ghibli Museum, taking a kimono dressing class, or attending a traditional tea ceremony.\\n* Sample Japanese cuisine, including sushi, ramen, and tempura.\\n* Make reservations for popular restaurants, especially during peak season.\\n\\n**Additional Tips:**\\n\\n* Purchase travel insurance for peace of mind.\\n* Be respectful of Japanese culture and customs.\\n* Learn about local etiquette, such as removing shoes indoors.\\n* Take advantage of free Wi-Fi in public areas.\\n* Consider a sim card for your phone for convenient internet access.\\n* Enjoy the unique and unforgettable experience that Japan has to offer!\"\n",
       " }\n",
       " role: \"model\",\n",
       " parts {\n",
       "   text: \"Give me more detail, about your second last point\"\n",
       " }\n",
       " role: \"user\",\n",
       " parts {\n",
       "   text: \"**Learn about local etiquette, such as removing shoes indoors.**\\n\\nIn Japan, it is considered rude to wear shoes indoors. This custom is rooted in the belief that shoes are dirty and should not be brought into the clean living spaces of homes and certain public places.\\n\\n**When to remove your shoes:**\\n\\n* Always remove your shoes before entering a Japanese home, temple, shrine, or traditional tea house.\\n* Look for a designated \\\"genkan\\\" area at the entrance where you can leave your shoes.\\n* Place your shoes neatly facing the doorway.\\n* Wear clean socks or slippers that are provided by the host or establishment.\\n\\n**Other etiquette tips:**\\n\\n* Avoid pointing at people or things with your finger.\\n* Use chopsticks correctly and don\\'t stick them vertically into your food.\\n* Don\\'t blow your nose in public.\\n* Cover your mouth and nose when coughing or sneezing.\\n* Be mindful of noise levels and avoid talking too loudly in public.\\n* Respect personal space and avoid crowding people.\\n* Follow the rules and queues at attractions and public transportation.\\n\\n**Consequences of not following etiquette:**\\n\\nWhile most Japanese people are polite and understanding, not following local etiquette can cause offense or embarrassment. You may be asked to leave a home or establishment if you do not remove your shoes.\\n\\n**Tips for remembering:**\\n\\n* Make it a habit to remove your shoes whenever you enter a building.\\n* Pay attention to signs or instructions that indicate whether shoes should be removed.\\n* If you\\'re unsure, it\\'s always better to err on the side of caution and remove your shoes.\"\n",
       " }\n",
       " role: \"model\"]"
      ]
     },
     "execution_count": 11,
     "metadata": {},
     "output_type": "execute_result"
    }
   ],
   "source": [
    "chat.history"
   ]
  },
  {
   "cell_type": "code",
   "execution_count": 12,
   "id": "26f5cd36-2195-4d02-a4d7-9982d718f5d4",
   "metadata": {},
   "outputs": [
    {
     "name": "stdout",
     "output_type": "stream",
     "text": [
      "Help me plan my trip to Japan\n",
      "\n",
      "\n",
      "**Step 1: Determine Travel Period and Budget**\n",
      "\n",
      "* Consider the best time of year to visit Japan based on weather and events.\n",
      "* Spring (March-May) and Autumn (September-November) offer mild temperatures and vibrant scenery.\n",
      "* Set a budget that includes flights, accommodation, food, transportation, and activities.\n",
      "\n",
      "**Step 2: Secure Flights and Accommodation**\n",
      "\n",
      "* Book flights to major cities like Tokyo, Osaka, or Kyoto.\n",
      "* Explore various accommodation options such as hotels, guesthouses, and Airbnb.\n",
      "* Consider using a travel agent or online booking platforms for convenience.\n",
      "\n",
      "**Step 3: Plan Your Itinerary**\n",
      "\n",
      "* Identify must-visit attractions and cities based on your interests.\n",
      "* Consider using a Japan Rail Pass if you plan to travel extensively by train.\n",
      "* Allocate time for cultural experiences such as visiting temples, shrines, and traditional baths.\n",
      "* Don't forget to include time for shopping, dining, and exploring hidden gems.\n",
      "\n",
      "**Step 4: Research Transportation Options**\n",
      "\n",
      "* Japan has an excellent public transportation system.\n",
      "* Familiarize yourself with the Japan Rail Network (JR) and local metro systems.\n",
      "* Consider purchasing a Suica or Pasmo card for convenient fare payment.\n",
      "* Explore rental car options if you prefer flexibility.\n",
      "\n",
      "**Step 5: Visa Requirements and Currency Exchange**\n",
      "\n",
      "* Check if you need a visa to enter Japan based on your nationality.\n",
      "* Exchange currency before your trip or use ATMs in Japan.\n",
      "* Japan primarily uses the Japanese Yen (JPY).\n",
      "\n",
      "**Step 6: Pack Essentials and Learn Basic Phrases**\n",
      "\n",
      "* Pack for Japan's temperate climate and respect cultural customs.\n",
      "* Learn basic Japanese phrases such as \"hello,\" \"thank you,\" and \"excuse me.\"\n",
      "* Download translation apps for additional assistance.\n",
      "\n",
      "**Step 7: Plan for Activities and Dining**\n",
      "\n",
      "* Explore unique experiences such as visiting Ghibli Museum, taking a kimono dressing class, or attending a traditional tea ceremony.\n",
      "* Sample Japanese cuisine, including sushi, ramen, and tempura.\n",
      "* Make reservations for popular restaurants, especially during peak season.\n",
      "\n",
      "**Additional Tips:**\n",
      "\n",
      "* Purchase travel insurance for peace of mind.\n",
      "* Be respectful of Japanese culture and customs.\n",
      "* Learn about local etiquette, such as removing shoes indoors.\n",
      "* Take advantage of free Wi-Fi in public areas.\n",
      "* Consider a sim card for your phone for convenient internet access.\n",
      "* Enjoy the unique and unforgettable experience that Japan has to offer!\n",
      "\n",
      "\n",
      "Give me more detail, about your second last point\n",
      "\n",
      "\n",
      "**Learn about local etiquette, such as removing shoes indoors.**\n",
      "\n",
      "In Japan, it is considered rude to wear shoes indoors. This custom is rooted in the belief that shoes are dirty and should not be brought into the clean living spaces of homes and certain public places.\n",
      "\n",
      "**When to remove your shoes:**\n",
      "\n",
      "* Always remove your shoes before entering a Japanese home, temple, shrine, or traditional tea house.\n",
      "* Look for a designated \"genkan\" area at the entrance where you can leave your shoes.\n",
      "* Place your shoes neatly facing the doorway.\n",
      "* Wear clean socks or slippers that are provided by the host or establishment.\n",
      "\n",
      "**Other etiquette tips:**\n",
      "\n",
      "* Avoid pointing at people or things with your finger.\n",
      "* Use chopsticks correctly and don't stick them vertically into your food.\n",
      "* Don't blow your nose in public.\n",
      "* Cover your mouth and nose when coughing or sneezing.\n",
      "* Be mindful of noise levels and avoid talking too loudly in public.\n",
      "* Respect personal space and avoid crowding people.\n",
      "* Follow the rules and queues at attractions and public transportation.\n",
      "\n",
      "**Consequences of not following etiquette:**\n",
      "\n",
      "While most Japanese people are polite and understanding, not following local etiquette can cause offense or embarrassment. You may be asked to leave a home or establishment if you do not remove your shoes.\n",
      "\n",
      "**Tips for remembering:**\n",
      "\n",
      "* Make it a habit to remove your shoes whenever you enter a building.\n",
      "* Pay attention to signs or instructions that indicate whether shoes should be removed.\n",
      "* If you're unsure, it's always better to err on the side of caution and remove your shoes.\n",
      "\n",
      "\n"
     ]
    }
   ],
   "source": [
    "for item in chat.history:\n",
    "    print(item.parts[0].text)\n",
    "    print('\\n')"
   ]
  },
  {
   "cell_type": "markdown",
   "id": "0217021b-3c94-4dcb-bd00-18f7a4154d20",
   "metadata": {},
   "source": [
    "## Stream Reply\n",
    "\n",
    "Since tokens are generated on the fly, you could also  directly grab the chunkcs as the come in:"
   ]
  },
  {
   "cell_type": "code",
   "execution_count": 13,
   "id": "01c60172-8255-48f2-bec4-47e2cf00c2a0",
   "metadata": {},
   "outputs": [
    {
     "name": "stdout",
     "output_type": "stream",
     "text": [
      "Yes, there is a musical based on the Japanese custom of removing shoes indoors.\n",
      " It is called **\"Take Off Your Shoes\"**.\n",
      "\n",
      "**Take Off Your Shoes (脱ぎなさい)** is a Japanese musical comedy that premiered in 2\n",
      "004. It tells the story of a young couple who move into a traditional Japanese house and must learn to adapt to the custom of removing their shoes indoors. The musical explores the cultural significance of this custom and the challenges of adjusting to a new way of life.\n",
      "\n",
      "The musical has been performed in Japan, South\n",
      " Korea, and other countries. It has received positive reviews for its humor, heartwarming story, and insights into Japanese culture.\n",
      "\n",
      "There is no known movie based specifically on the custom of removing shoes indoors in Japan. However, there are several Japanese films that explore the theme of cultural differences and the challenges of adapting to new customs.\n"
     ]
    }
   ],
   "source": [
    "response = chat.send_message(\"Wasn't there a movie or musical about this?\", stream=True)\n",
    "\n",
    "for chunk in response:\n",
    "    print(chunk.text)"
   ]
  },
  {
   "cell_type": "markdown",
   "id": "3707209f-6e59-4579-856d-9c8e986d73e7",
   "metadata": {},
   "source": [
    "## Token Count\n",
    "\n",
    "You can easily count tokens as well:"
   ]
  },
  {
   "cell_type": "code",
   "execution_count": 14,
   "id": "fa91eb96-79d8-4847-99bf-5b3b4bc92269",
   "metadata": {},
   "outputs": [
    {
     "data": {
      "text/plain": [
       "total_tokens: 5"
      ]
     },
     "execution_count": 14,
     "metadata": {},
     "output_type": "execute_result"
    }
   ],
   "source": [
    "model.count_tokens('write a song about today')"
   ]
  }
 ],
 "metadata": {
  "kernelspec": {
   "display_name": "Python 3 (ipykernel)",
   "language": "python",
   "name": "python3"
  },
  "language_info": {
   "codemirror_mode": {
    "name": "ipython",
    "version": 3
   },
   "file_extension": ".py",
   "mimetype": "text/x-python",
   "name": "python",
   "nbconvert_exporter": "python",
   "pygments_lexer": "ipython3",
   "version": "3.12.3"
  }
 },
 "nbformat": 4,
 "nbformat_minor": 5
}
