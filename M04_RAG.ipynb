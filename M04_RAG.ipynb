{
 "cells": [
  {
   "cell_type": "markdown",
   "id": "ac752d29-d151-45d5-9e4a-7d388bea37a1",
   "metadata": {},
   "source": [
    "## STEP 1: Original Documents\n",
    "\n",
    "Let's create some strings to act as text documents, later we will read in other files, like PDFs."
   ]
  },
  {
   "cell_type": "code",
   "execution_count": 1,
   "id": "cd2aaf15-4eda-4393-80ec-45139278eb32",
   "metadata": {},
   "outputs": [],
   "source": [
    "sports_news_text = {'title':'Sports Section',\n",
    "                    'text':\"The San Francisco 49ers are heading to the super bowl in a football showdown!\"}"
   ]
  },
  {
   "cell_type": "code",
   "execution_count": 2,
   "id": "0f09f1d6-45c7-4e1d-a3df-9c24f36e1ec4",
   "metadata": {},
   "outputs": [],
   "source": [
    "finance_news_text = {'title':\"Finance Section\",\n",
    "                     'text':\"Meta stock has reached all time highs and has become a major part of the S&P500.\"}"
   ]
  },
  {
   "cell_type": "markdown",
   "id": "040c9eec-cbba-4c10-9816-da03d264c8e2",
   "metadata": {},
   "source": [
    "## Step 2: Load Embedding Model"
   ]
  },
  {
   "cell_type": "code",
   "execution_count": 3,
   "id": "f7147e8a-4dd1-48ac-8b03-b686504b221d",
   "metadata": {},
   "outputs": [],
   "source": [
    "import google.generativeai as genai\n",
    "api_key = ''\n",
    "genai.configure(api_key=api_key)"
   ]
  },
  {
   "cell_type": "markdown",
   "id": "1412e5ad-48c4-410b-9bee-9fcdf918ffab",
   "metadata": {},
   "source": [
    "## Step 3: Create Vector Embeddings"
   ]
  },
  {
   "cell_type": "code",
   "execution_count": 4,
   "id": "68d4bce1-0b61-4add-b18b-ec49374d2cdb",
   "metadata": {},
   "outputs": [],
   "source": [
    "sports_embedding_vector = genai.embed_content(model='models/embedding-001',content=sports_news_text['text'],\n",
    "                             task_type='retrieval_document')"
   ]
  },
  {
   "cell_type": "code",
   "execution_count": 5,
   "id": "d5c1f69c-e247-4d09-8f55-34b9eef84489",
   "metadata": {},
   "outputs": [
    {
     "data": {
      "text/plain": [
       "768"
      ]
     },
     "execution_count": 5,
     "metadata": {},
     "output_type": "execute_result"
    }
   ],
   "source": [
    "len(sports_embedding_vector['embedding'])"
   ]
  },
  {
   "cell_type": "code",
   "execution_count": 6,
   "id": "4ea5b5c3-de92-45e6-9717-94defde57141",
   "metadata": {},
   "outputs": [],
   "source": [
    "finance_embedding_vector = genai.embed_content(model='models/embedding-001',content=finance_news_text['text'],\n",
    "                             task_type='retrieval_document')"
   ]
  },
  {
   "cell_type": "code",
   "execution_count": 7,
   "id": "e15d9f2d-e9f7-4bec-b0c8-05d7d5a74997",
   "metadata": {},
   "outputs": [
    {
     "data": {
      "text/plain": [
       "768"
      ]
     },
     "execution_count": 7,
     "metadata": {},
     "output_type": "execute_result"
    }
   ],
   "source": [
    "len(finance_embedding_vector['embedding'])"
   ]
  },
  {
   "cell_type": "code",
   "execution_count": 8,
   "id": "b4577e0a-8ef1-474c-9aa2-f102ee30b39e",
   "metadata": {},
   "outputs": [
    {
     "data": {
      "text/plain": [
       "dict_keys(['embedding'])"
      ]
     },
     "execution_count": 8,
     "metadata": {},
     "output_type": "execute_result"
    }
   ],
   "source": [
    "finance_embedding_vector.keys()"
   ]
  },
  {
   "cell_type": "code",
   "execution_count": 9,
   "id": "f9873d8d-2284-4d90-8c7e-e297821cd995",
   "metadata": {},
   "outputs": [],
   "source": [
    "def embed_text(text):\n",
    "    return genai.embed_content(model='models/embedding-001',content=text,\n",
    "                             task_type='retrieval_document')['embedding']"
   ]
  },
  {
   "cell_type": "markdown",
   "id": "acf5a393-0e3f-430c-a4d4-c357ac94b1fa",
   "metadata": {},
   "source": [
    "## Step 4: Store Embeddings\n",
    "\n",
    "For larger applications, you should use a vector database, like ChromaDB, but for now we'll create our own simple Vector Database connecting the embedding to the model for RAG."
   ]
  },
  {
   "cell_type": "code",
   "execution_count": 10,
   "id": "dc5e8a79-a1a7-4399-b131-48fe4165b43e",
   "metadata": {},
   "outputs": [],
   "source": [
    "import pandas as pd"
   ]
  },
  {
   "cell_type": "code",
   "execution_count": 11,
   "id": "0c15996f-3504-4e74-8a6d-f009f76f328e",
   "metadata": {},
   "outputs": [],
   "source": [
    "df = pd.DataFrame()"
   ]
  },
  {
   "cell_type": "code",
   "execution_count": 12,
   "id": "e78409ba-96a8-4f0f-87b7-1c4c066ecd14",
   "metadata": {},
   "outputs": [
    {
     "data": {
      "text/html": [
       "<div>\n",
       "<style scoped>\n",
       "    .dataframe tbody tr th:only-of-type {\n",
       "        vertical-align: middle;\n",
       "    }\n",
       "\n",
       "    .dataframe tbody tr th {\n",
       "        vertical-align: top;\n",
       "    }\n",
       "\n",
       "    .dataframe thead th {\n",
       "        text-align: right;\n",
       "    }\n",
       "</style>\n",
       "<table border=\"1\" class=\"dataframe\">\n",
       "  <thead>\n",
       "    <tr style=\"text-align: right;\">\n",
       "      <th></th>\n",
       "      <th>Title</th>\n",
       "      <th>Text</th>\n",
       "    </tr>\n",
       "  </thead>\n",
       "  <tbody>\n",
       "    <tr>\n",
       "      <th>0</th>\n",
       "      <td>Finance Section</td>\n",
       "      <td>Meta stock has reached all time highs and has ...</td>\n",
       "    </tr>\n",
       "    <tr>\n",
       "      <th>1</th>\n",
       "      <td>Sports Section</td>\n",
       "      <td>The San Francisco 49ers are heading to the sup...</td>\n",
       "    </tr>\n",
       "  </tbody>\n",
       "</table>\n",
       "</div>"
      ],
      "text/plain": [
       "             Title                                               Text\n",
       "0  Finance Section  Meta stock has reached all time highs and has ...\n",
       "1   Sports Section  The San Francisco 49ers are heading to the sup..."
      ]
     },
     "execution_count": 12,
     "metadata": {},
     "output_type": "execute_result"
    }
   ],
   "source": [
    "documents = [finance_news_text,sports_news_text]\n",
    "df = pd.DataFrame(documents)\n",
    "df.columns = ['Title', 'Text']\n",
    "df"
   ]
  },
  {
   "cell_type": "code",
   "execution_count": 13,
   "id": "559f0779-1ee0-4cc0-9f9c-37c36751d377",
   "metadata": {},
   "outputs": [],
   "source": [
    "df['Embeddings'] = df['Text'].apply(embed_text)"
   ]
  },
  {
   "cell_type": "code",
   "execution_count": 14,
   "id": "1387833a-e04b-412b-90db-060452e67279",
   "metadata": {},
   "outputs": [
    {
     "data": {
      "text/html": [
       "<div>\n",
       "<style scoped>\n",
       "    .dataframe tbody tr th:only-of-type {\n",
       "        vertical-align: middle;\n",
       "    }\n",
       "\n",
       "    .dataframe tbody tr th {\n",
       "        vertical-align: top;\n",
       "    }\n",
       "\n",
       "    .dataframe thead th {\n",
       "        text-align: right;\n",
       "    }\n",
       "</style>\n",
       "<table border=\"1\" class=\"dataframe\">\n",
       "  <thead>\n",
       "    <tr style=\"text-align: right;\">\n",
       "      <th></th>\n",
       "      <th>Title</th>\n",
       "      <th>Text</th>\n",
       "      <th>Embeddings</th>\n",
       "    </tr>\n",
       "  </thead>\n",
       "  <tbody>\n",
       "    <tr>\n",
       "      <th>0</th>\n",
       "      <td>Finance Section</td>\n",
       "      <td>Meta stock has reached all time highs and has ...</td>\n",
       "      <td>[0.055816136, -0.0018495269, -0.024931083, 0.0...</td>\n",
       "    </tr>\n",
       "    <tr>\n",
       "      <th>1</th>\n",
       "      <td>Sports Section</td>\n",
       "      <td>The San Francisco 49ers are heading to the sup...</td>\n",
       "      <td>[0.013654178, -0.010523142, -0.053972486, -0.0...</td>\n",
       "    </tr>\n",
       "  </tbody>\n",
       "</table>\n",
       "</div>"
      ],
      "text/plain": [
       "             Title                                               Text  \\\n",
       "0  Finance Section  Meta stock has reached all time highs and has ...   \n",
       "1   Sports Section  The San Francisco 49ers are heading to the sup...   \n",
       "\n",
       "                                          Embeddings  \n",
       "0  [0.055816136, -0.0018495269, -0.024931083, 0.0...  \n",
       "1  [0.013654178, -0.010523142, -0.053972486, -0.0...  "
      ]
     },
     "execution_count": 14,
     "metadata": {},
     "output_type": "execute_result"
    }
   ],
   "source": [
    "df"
   ]
  },
  {
   "cell_type": "code",
   "execution_count": 15,
   "id": "ca7b7459-aa12-4b8e-a685-388a001bf378",
   "metadata": {},
   "outputs": [
    {
     "name": "stdout",
     "output_type": "stream",
     "text": [
      "<class 'pandas.core.frame.DataFrame'>\n",
      "RangeIndex: 2 entries, 0 to 1\n",
      "Data columns (total 3 columns):\n",
      " #   Column      Non-Null Count  Dtype \n",
      "---  ------      --------------  ----- \n",
      " 0   Title       2 non-null      object\n",
      " 1   Text        2 non-null      object\n",
      " 2   Embeddings  2 non-null      object\n",
      "dtypes: object(3)\n",
      "memory usage: 180.0+ bytes\n"
     ]
    }
   ],
   "source": [
    "df.info()"
   ]
  },
  {
   "cell_type": "markdown",
   "id": "abeb36d6-4975-47db-b83c-c5945a0e5748",
   "metadata": {},
   "source": [
    "## Step 5: Similarity Search\n",
    "\n",
    "Question and Answer (Q&A) system aimed at sifting through these documents. The process involves posing a query specifically about hyperparameter tuning. Subsequently, this query is transformed into an embedding, essentially a numerical vector composed of floating-point values. This vector representing the question is then methodically compared with the array of document embeddings stored within the dataframe.\n",
    "\n",
    "The comparison hinges on the mathematical operation known as the dot product. This operation quantitatively assesses the alignment or similarity in direction between two vectors. Notably, the vector we receive from the API is pre-normalized, ensuring its readiness for comparison.\n",
    "\n",
    "The outcome of the dot product, which measures the similarity, spans a range from -1 to 1. A dot product value of 1 signifies perfect alignment, indicating that the vectors share the same direction. Conversely, a value of -1 denotes complete opposition in direction, reflecting dissimilarity. A value of 0, falling in the middle, indicates orthogonality, meaning the vectors are perpendicular and bear no relation to each other in terms of direction. Understanding these values and their implications is crucial for interpreting the similarity between the query and document embeddings in our Q&A system."
   ]
  },
  {
   "cell_type": "code",
   "execution_count": 16,
   "id": "64537620-be76-4537-af2b-2f19739d788f",
   "metadata": {},
   "outputs": [],
   "source": [
    "import numpy as np\n",
    "\n",
    "def query_similarity_score(query,vector):\n",
    "    '''\n",
    "    INPUTS:\n",
    "        query: str: The user prompt\n",
    "        vector: array: The existing vector embedding from a document\n",
    "    OUTPUT:\n",
    "        score: float - Cosine similarity score\n",
    "    '''\n",
    "    query_embedding = embed_text(query)\n",
    "    return np.dot(query_embedding,vector)"
   ]
  },
  {
   "cell_type": "code",
   "execution_count": 17,
   "id": "f6ea7ac2-42eb-4aeb-a27a-e8c8acad875f",
   "metadata": {},
   "outputs": [],
   "source": [
    "query = \"Any interesting news about the stock market today?\""
   ]
  },
  {
   "cell_type": "code",
   "execution_count": 18,
   "id": "34ea17e0-0ec1-4649-aa33-0f465e7dbf44",
   "metadata": {},
   "outputs": [],
   "source": [
    "df['Similarity'] = df['Embeddings'].apply(lambda vector: query_similarity_score(query,vector))"
   ]
  },
  {
   "cell_type": "code",
   "execution_count": 19,
   "id": "3a371a74-c85b-4ea9-8592-226517a2041d",
   "metadata": {},
   "outputs": [
    {
     "data": {
      "text/html": [
       "<div>\n",
       "<style scoped>\n",
       "    .dataframe tbody tr th:only-of-type {\n",
       "        vertical-align: middle;\n",
       "    }\n",
       "\n",
       "    .dataframe tbody tr th {\n",
       "        vertical-align: top;\n",
       "    }\n",
       "\n",
       "    .dataframe thead th {\n",
       "        text-align: right;\n",
       "    }\n",
       "</style>\n",
       "<table border=\"1\" class=\"dataframe\">\n",
       "  <thead>\n",
       "    <tr style=\"text-align: right;\">\n",
       "      <th></th>\n",
       "      <th>Title</th>\n",
       "      <th>Text</th>\n",
       "      <th>Embeddings</th>\n",
       "      <th>Similarity</th>\n",
       "    </tr>\n",
       "  </thead>\n",
       "  <tbody>\n",
       "    <tr>\n",
       "      <th>0</th>\n",
       "      <td>Finance Section</td>\n",
       "      <td>Meta stock has reached all time highs and has ...</td>\n",
       "      <td>[0.055816136, -0.0018495269, -0.024931083, 0.0...</td>\n",
       "      <td>0.790957</td>\n",
       "    </tr>\n",
       "    <tr>\n",
       "      <th>1</th>\n",
       "      <td>Sports Section</td>\n",
       "      <td>The San Francisco 49ers are heading to the sup...</td>\n",
       "      <td>[0.013654178, -0.010523142, -0.053972486, -0.0...</td>\n",
       "      <td>0.704175</td>\n",
       "    </tr>\n",
       "  </tbody>\n",
       "</table>\n",
       "</div>"
      ],
      "text/plain": [
       "             Title                                               Text  \\\n",
       "0  Finance Section  Meta stock has reached all time highs and has ...   \n",
       "1   Sports Section  The San Francisco 49ers are heading to the sup...   \n",
       "\n",
       "                                          Embeddings  Similarity  \n",
       "0  [0.055816136, -0.0018495269, -0.024931083, 0.0...    0.790957  \n",
       "1  [0.013654178, -0.010523142, -0.053972486, -0.0...    0.704175  "
      ]
     },
     "execution_count": 19,
     "metadata": {},
     "output_type": "execute_result"
    }
   ],
   "source": [
    "df"
   ]
  },
  {
   "cell_type": "code",
   "execution_count": 20,
   "id": "78bba988-38f1-4df0-8c89-89536676ba66",
   "metadata": {},
   "outputs": [
    {
     "data": {
      "text/plain": [
       "Title                                      Finance Section\n",
       "Text     Meta stock has reached all time highs and has ...\n",
       "Name: 0, dtype: object"
      ]
     },
     "execution_count": 20,
     "metadata": {},
     "output_type": "execute_result"
    }
   ],
   "source": [
    "df.sort_values('Similarity',ascending=False)[['Title','Text']].iloc[0]"
   ]
  },
  {
   "cell_type": "code",
   "execution_count": 21,
   "id": "3f68451b-fba8-438f-92b7-3f3ef4360963",
   "metadata": {},
   "outputs": [],
   "source": [
    "def most_similar_document(query):\n",
    "    df['Similarity'] = df['Embeddings'].apply(lambda vector: query_similarity_score(query,vector))\n",
    "    title = df.sort_values('Similarity',ascending=False)[['Title','Text']].iloc[0]['Title']\n",
    "    text = df.sort_values('Similarity',ascending=False)[['Title','Text']].iloc[0]['Text']\n",
    "    return title,text"
   ]
  },
  {
   "cell_type": "markdown",
   "id": "91bf9cd1-0da1-4d99-a458-0ddbdf9e93d3",
   "metadata": {},
   "source": [
    "## Step 6: Inject Text as Context using RAG\n",
    "\n",
    "We simply grab the most relevant text to help the Text Generation Model answer the query"
   ]
  },
  {
   "cell_type": "code",
   "execution_count": 22,
   "id": "22e002d6-1e02-4175-ac01-fcd9c2463f1e",
   "metadata": {},
   "outputs": [],
   "source": [
    "def RAG(query):\n",
    "    title,text = most_similar_document(query)\n",
    "    model = genai.GenerativeModel('gemini-pro')\n",
    "    prompt = f'Answer this query:\\n{query}.\\nOnly use this context to answer:\\n{text}'\n",
    "    response = model.generate_content(prompt)\n",
    "    return f'{response.text}\\n\\nSource Document:{title}'"
   ]
  },
  {
   "cell_type": "code",
   "execution_count": 23,
   "id": "e1bd2c5a-f028-408c-8dff-0fc0aa45ce94",
   "metadata": {},
   "outputs": [
    {
     "name": "stdout",
     "output_type": "stream",
     "text": [
      "This context does not mention any news about the stock market today, so I cannot answer this query.\n",
      "\n",
      "Source Document:Finance Section\n"
     ]
    }
   ],
   "source": [
    "# Careful, it can still add its own context, which could be out of date!\n",
    "print(RAG(\"Any interesting news about the stock market today?\"))"
   ]
  },
  {
   "cell_type": "code",
   "execution_count": 24,
   "id": "ad61d93e-cfba-4168-8ef4-8e96db2e73e0",
   "metadata": {},
   "outputs": [
    {
     "name": "stdout",
     "output_type": "stream",
     "text": [
      "The San Francisco 49ers are heading to the Super Bowl, suggesting that they are participating in a significant sporting event.\n",
      "\n",
      "Source Document:Sports Section\n"
     ]
    }
   ],
   "source": [
    "print(RAG(\"Anything interesting happening in the world of sports?\"))"
   ]
  },
  {
   "cell_type": "markdown",
   "id": "5329324c-a15d-47fe-8b15-41fbc43ba13e",
   "metadata": {},
   "source": [
    "## OPTIONAL: Expand to more real world documents\n",
    "There are lots of libraries allowing you to extract text from real world documents, for example, PDFs! You could make a bot that helps answer questions about your company's own documents. Do a google search for relevant Python libraries to extract text from your documents."
   ]
  },
  {
   "cell_type": "code",
   "execution_count": 25,
   "id": "b35c5f74-1a60-4378-9d02-50c611a8c164",
   "metadata": {},
   "outputs": [
    {
     "name": "stdout",
     "output_type": "stream",
     "text": [
      "Defaulting to user installation because normal site-packages is not writeable\n",
      "Collecting PyPDF2\n",
      "  Downloading pypdf2-3.0.1-py3-none-any.whl.metadata (6.8 kB)\n",
      "Downloading pypdf2-3.0.1-py3-none-any.whl (232 kB)\n",
      "Installing collected packages: PyPDF2\n",
      "Successfully installed PyPDF2-3.0.1\n"
     ]
    }
   ],
   "source": [
    "!pip install PyPDF2"
   ]
  },
  {
   "cell_type": "code",
   "execution_count": 1,
   "id": "f8f3646b-aa04-4225-aed8-f585a18e75c6",
   "metadata": {},
   "outputs": [],
   "source": [
    "import os\n",
    "import pandas as pd\n",
    "from PyPDF2 import PdfReader\n",
    "\n",
    "# Initialize an empty DataFrame with columns 'Title' and 'Text'\n",
    "df = pd.DataFrame(columns=['Title', 'Text'])\n",
    "\n",
    "# Loop through each file in the current directory\n",
    "for file_name in os.listdir('.'):\n",
    "    if file_name.endswith('.pdf'):\n",
    "        try:\n",
    "            # Open the PDF file\n",
    "            with open(file_name, 'rb') as file:\n",
    "                # Initialize a PDF file reader\n",
    "                pdf_reader = PdfReader(file)\n",
    "                # Initialize text variable to store the content of the PDF\n",
    "                text = ''\n",
    "                # Iterate through each page in the PDF\n",
    "                for page_num in range(len(pdf_reader.pages)):\n",
    "                    # Extract text from the page\n",
    "                    text += pdf_reader.pages[page_num].extract_text()\n",
    "                    text = text.replace('\\n',' ')\n",
    "                # Create a new DataFrame with the file's title and text\n",
    "                new_row = pd.DataFrame({'Title': [file_name], 'Text': [text]})\n",
    "                # Concatenate the new DataFrame row to the existing DataFrame\n",
    "                df = pd.concat([df, new_row], ignore_index=True)\n",
    "        except Exception as e:\n",
    "            print(f\"Error processing file {file_name}: {e}\")"
   ]
  },
  {
   "cell_type": "code",
   "execution_count": 2,
   "id": "aee19129-9f10-4b3a-87ea-a5cb84fd87b3",
   "metadata": {},
   "outputs": [
    {
     "data": {
      "text/html": [
       "<div>\n",
       "<style scoped>\n",
       "    .dataframe tbody tr th:only-of-type {\n",
       "        vertical-align: middle;\n",
       "    }\n",
       "\n",
       "    .dataframe tbody tr th {\n",
       "        vertical-align: top;\n",
       "    }\n",
       "\n",
       "    .dataframe thead th {\n",
       "        text-align: right;\n",
       "    }\n",
       "</style>\n",
       "<table border=\"1\" class=\"dataframe\">\n",
       "  <thead>\n",
       "    <tr style=\"text-align: right;\">\n",
       "      <th></th>\n",
       "      <th>Title</th>\n",
       "      <th>Text</th>\n",
       "    </tr>\n",
       "  </thead>\n",
       "  <tbody>\n",
       "    <tr>\n",
       "      <th>0</th>\n",
       "      <td>Wonka Chocolate Facility Rules.pdf</td>\n",
       "      <td>Wonka Milk Chocolate Factory: Facility Safety ...</td>\n",
       "    </tr>\n",
       "  </tbody>\n",
       "</table>\n",
       "</div>"
      ],
      "text/plain": [
       "                                Title  \\\n",
       "0  Wonka Chocolate Facility Rules.pdf   \n",
       "\n",
       "                                                Text  \n",
       "0  Wonka Milk Chocolate Factory: Facility Safety ...  "
      ]
     },
     "execution_count": 2,
     "metadata": {},
     "output_type": "execute_result"
    }
   ],
   "source": [
    "df"
   ]
  },
  {
   "cell_type": "code",
   "execution_count": null,
   "id": "4dac6eaa-dea5-4388-8a4f-3b610df4326a",
   "metadata": {},
   "outputs": [],
   "source": []
  }
 ],
 "metadata": {
  "kernelspec": {
   "display_name": "Python 3 (ipykernel)",
   "language": "python",
   "name": "python3"
  },
  "language_info": {
   "codemirror_mode": {
    "name": "ipython",
    "version": 3
   },
   "file_extension": ".py",
   "mimetype": "text/x-python",
   "name": "python",
   "nbconvert_exporter": "python",
   "pygments_lexer": "ipython3",
   "version": "3.12.3"
  }
 },
 "nbformat": 4,
 "nbformat_minor": 5
}
