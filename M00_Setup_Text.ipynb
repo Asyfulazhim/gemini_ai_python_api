{
 "cells": [
  {
   "cell_type": "markdown",
   "id": "88567489-b7d4-4b0d-a520-208c5bc37544",
   "metadata": {},
   "source": [
    "# Gemini API\n",
    "\n",
    "In the world of artificial intelligence, language models have evolved to handle multimodal information, enabling them to understand and synthesize data from text and images. Google's Gemini API spearheads this advancement, introducing models that enable multimodal understanding and generation.\n",
    "\n",
    "The Gemini API serves as the key to unlocking these models' capabilities, providing a toolkit for building AI applications.\n",
    "\n",
    "Key Features of the Gemini API:\n",
    "\n",
    "- Multimodal Understanding: Gemini models can process and comprehend information from text and images\n",
    "- Generative Power: Gemini models excel at generating text, translating languages, writing different creative content formats, and answering your questions informatively.\n",
    "- Versatility: Gemini models can be adapted to a wide range of applications, including chatbots, creative writing tools, and information retrieval systems."
   ]
  },
  {
   "cell_type": "markdown",
   "id": "62d07c6a-65fc-4b2f-8194-17ebb9093121",
   "metadata": {},
   "source": [
    "## Installation of Python SDK\n",
    "\n",
    "First up, you need to install the Python SDK for Google's Gemini models, note that this is a different Python SDK than previous Google LLMs such as PaLM. You can install it at the command line with:\n",
    "\n",
    "    pip install google-generativeai\n",
    "    \n",
    "Or you can try running it directly in your notebook (keep in mind that in a virtual environment, you sometimes need to re-install Jupyter in that virtual environment to reconnect it to the libraries, you may also need to restart the kernel."
   ]
  },
  {
   "cell_type": "code",
   "execution_count": 1,
   "id": "1741ed32-5a83-476c-8257-031f0dcfc417",
   "metadata": {},
   "outputs": [],
   "source": [
    "#!pip install google-generativeai"
   ]
  },
  {
   "cell_type": "markdown",
   "id": "84e1ae59-b0b5-4ca7-adcd-f80dee82aaed",
   "metadata": {},
   "source": [
    "Confirm the installation by running the import:"
   ]
  },
  {
   "cell_type": "code",
   "execution_count": 2,
   "id": "1f8bfae5-598d-41ce-b891-6034fbaf5fdd",
   "metadata": {},
   "outputs": [],
   "source": [
    "import google.generativeai as genai"
   ]
  },
  {
   "cell_type": "markdown",
   "id": "fca90af3-6e9c-4db9-a9f7-4f372148d9d9",
   "metadata": {},
   "source": [
    "# API Key\n",
    "\n",
    "You'll need to generate an API key for Gemini by going to: https://makersuite.google.com/app/apikey and creating a new API Key. Here is a screenshot:\n",
    "\n",
    "<center><img src=\"ai_studio_snip.jpg\"></center>\n",
    "\n",
    "Eventually you should be able to get a key, it will look something like this: \"XE4tlk8VrP9jsH7yLmQbDfNeZC5vYqx3WbTghJZ\" (obviously this is not a real API key)\n",
    "\n",
    "## API Key Troubleshooting Notes:\n",
    "\n",
    "* It is important to note that you may need to allow access to \"Early Access Apps\" in order to get the API key. Here is a troubleshooting guide from Google explaining how to set-up access: https://ai.google.dev/tutorials/workspace_auth_quickstart\n",
    "\n",
    "* If you get an error saying \"The caller does not have permission\" it is because you are only allowed ONE key PER project, you should see if you already have an existing project that Google made for you, often called something like \"Generative Language Client\", for more info: https://stackoverflow.com/questions/77762483/the-caller-does-not-have-permission-when-creating-api-key\n",
    "----\n",
    "\n",
    "## Saving and Setting your API Key\n",
    "\n",
    "To securely save and reuse your API key in Jupyter Notebook using Python, you should avoid hardcoding it directly into your notebook. Instead, you can use environment variables or external files. Here are a couple of methods:\n",
    "\n",
    "### Using Environment Variables\n",
    "\n",
    "1. **Set the Environment Variable**: \n",
    "   - On Windows, use the command prompt to set an environment variable: \n",
    "     ```\n",
    "     setx GEMINI_API_KEY \"XE4tlk8VrP9jsH7yLmQbDfNeZC5vYqx3WbTghJZ\"\n",
    "     ```\n",
    "   - On macOS/Linux, use the terminal:\n",
    "     ```\n",
    "     export GEMINI_API_KEY=\"XE4tlk8VrP9jsH7yLmQbDfNeZC5vYqx3WbTghJZ\"\n",
    "     ```\n",
    "   - Note: After setting this, you might need to restart your Jupyter Notebook for the changes to take effect.\n",
    "   - You can technically also do this via Python's os library:\n",
    "   \n",
    "     ```python\n",
    "     import os\n",
    "     os.environ['GEMINI_API_KEY'] = \"XE4tlk8VrP9jsH7yLmQbDfNeZC5vYqx3WbTghJZ\"\n",
    "     ```\n",
    "     \n",
    "     but this sometimes is not permanent and is only live for that session, depending on your installation of Jupyter and Environment.\n",
    "\n",
    "2. **Access in Jupyter Notebook**:\n",
    "   - In your Jupyter notebook, use the `os` module to access the environment variable:\n",
    "   \n",
    "     ```python\n",
    "     import os\n",
    "     api_key = os.environ.get('GEMINI_API_KEY')\n",
    "     ```\n",
    "---"
   ]
  },
  {
   "cell_type": "code",
   "execution_count": 3,
   "id": "446ab30a-ffe9-4341-9b2c-beab6805e246",
   "metadata": {},
   "outputs": [],
   "source": [
    "api_key = ''"
   ]
  },
  {
   "cell_type": "code",
   "execution_count": 4,
   "id": "e9bfc5d8-5902-49ce-8f0f-1776db037f30",
   "metadata": {},
   "outputs": [
    {
     "data": {
      "text/plain": [
       "39"
      ]
     },
     "execution_count": 4,
     "metadata": {},
     "output_type": "execute_result"
    }
   ],
   "source": [
    "len(api_key)"
   ]
  },
  {
   "cell_type": "code",
   "execution_count": 5,
   "id": "7ba45667-247a-4425-9643-45fc1f4bd2ed",
   "metadata": {},
   "outputs": [],
   "source": [
    "genai.configure(api_key=api_key)"
   ]
  },
  {
   "cell_type": "code",
   "execution_count": 6,
   "id": "8f53e7e5-d58d-400c-9e5a-7070eca22ae1",
   "metadata": {},
   "outputs": [
    {
     "name": "stdout",
     "output_type": "stream",
     "text": [
      "models/chat-bison-001\n",
      "models/text-bison-001\n",
      "models/embedding-gecko-001\n",
      "models/gemini-1.0-pro-latest\n",
      "models/gemini-1.0-pro\n",
      "models/gemini-pro\n",
      "models/gemini-1.0-pro-001\n",
      "models/gemini-1.0-pro-vision-latest\n",
      "models/gemini-pro-vision\n",
      "models/gemini-1.5-pro-latest\n",
      "models/gemini-1.5-pro-001\n",
      "models/gemini-1.5-pro\n",
      "models/gemini-1.5-pro-exp-0801\n",
      "models/gemini-1.5-flash-latest\n",
      "models/gemini-1.5-flash-001\n",
      "models/gemini-1.5-flash\n",
      "models/gemini-1.5-flash-001-tuning\n",
      "models/embedding-001\n",
      "models/text-embedding-004\n",
      "models/aqa\n"
     ]
    }
   ],
   "source": [
    "for model in genai.list_models():\n",
    "    print(model.name)"
   ]
  },
  {
   "cell_type": "code",
   "execution_count": 7,
   "id": "65d151bb-78e9-4483-9b91-8775d09fe32f",
   "metadata": {},
   "outputs": [],
   "source": [
    "model = genai.GenerativeModel('gemini-pro')"
   ]
  },
  {
   "cell_type": "code",
   "execution_count": 8,
   "id": "3851493d-6a0e-479b-a3ee-f5dcde803873",
   "metadata": {},
   "outputs": [],
   "source": [
    "prompt = 'What is the capital city of Malaysia?'"
   ]
  },
  {
   "cell_type": "code",
   "execution_count": 9,
   "id": "8c668d63-5149-4f44-81f7-44b7031e5efc",
   "metadata": {},
   "outputs": [],
   "source": [
    "response = model.generate_content(prompt)"
   ]
  },
  {
   "cell_type": "code",
   "execution_count": 10,
   "id": "c0ad9d08-e679-41da-b381-237a68315a88",
   "metadata": {},
   "outputs": [
    {
     "data": {
      "text/plain": [
       "google.generativeai.types.generation_types.GenerateContentResponse"
      ]
     },
     "execution_count": 10,
     "metadata": {},
     "output_type": "execute_result"
    }
   ],
   "source": [
    "type(response)"
   ]
  },
  {
   "cell_type": "code",
   "execution_count": 11,
   "id": "358ea91c-56e5-4340-adbb-2c2b0e187ee4",
   "metadata": {},
   "outputs": [
    {
     "data": {
      "text/plain": [
       "'Kuala Lumpur'"
      ]
     },
     "execution_count": 11,
     "metadata": {},
     "output_type": "execute_result"
    }
   ],
   "source": [
    "response.text"
   ]
  },
  {
   "cell_type": "code",
   "execution_count": 12,
   "id": "6438dab4-a148-48db-80bf-5532eeee10ce",
   "metadata": {},
   "outputs": [],
   "source": [
    "#response.prompt_feedback"
   ]
  },
  {
   "cell_type": "code",
   "execution_count": 13,
   "id": "146a273f-9d5b-4a01-a262-fe739818adab",
   "metadata": {},
   "outputs": [
    {
     "data": {
      "text/plain": [
       "[index: 0\n",
       "content {\n",
       "  parts {\n",
       "    text: \"Kuala Lumpur\"\n",
       "  }\n",
       "  role: \"model\"\n",
       "}\n",
       "finish_reason: STOP\n",
       "safety_ratings {\n",
       "  category: HARM_CATEGORY_SEXUALLY_EXPLICIT\n",
       "  probability: NEGLIGIBLE\n",
       "}\n",
       "safety_ratings {\n",
       "  category: HARM_CATEGORY_HATE_SPEECH\n",
       "  probability: NEGLIGIBLE\n",
       "}\n",
       "safety_ratings {\n",
       "  category: HARM_CATEGORY_HARASSMENT\n",
       "  probability: NEGLIGIBLE\n",
       "}\n",
       "safety_ratings {\n",
       "  category: HARM_CATEGORY_DANGEROUS_CONTENT\n",
       "  probability: NEGLIGIBLE\n",
       "}\n",
       "]"
      ]
     },
     "execution_count": 13,
     "metadata": {},
     "output_type": "execute_result"
    }
   ],
   "source": [
    "response.candidates"
   ]
  },
  {
   "cell_type": "code",
   "execution_count": 14,
   "id": "a9224cf5-09ec-4483-9551-a8fd29dc0fc4",
   "metadata": {},
   "outputs": [],
   "source": [
    "prompt = 'Write a song about birthday'"
   ]
  },
  {
   "cell_type": "code",
   "execution_count": 15,
   "id": "2532dd1c-7e0b-4165-95f3-1e0d4542ed4e",
   "metadata": {},
   "outputs": [],
   "source": [
    "response = model.generate_content(prompt)"
   ]
  },
  {
   "cell_type": "code",
   "execution_count": 16,
   "id": "4fe2680f-a3e9-4d05-905f-b9d65c0ddfd8",
   "metadata": {},
   "outputs": [
    {
     "name": "stdout",
     "output_type": "stream",
     "text": [
      "(Verse 1)\n",
      "In a realm of joy and merriment,\n",
      "Where laughter fills the air,\n",
      "A special day, a moment rare,\n",
      "A celebration beyond compare.\n",
      "\n",
      "Happy Birthday, happy Birthday,\n",
      "A symphony of wishes true,\n",
      "May happiness forever pursue,\n",
      "A year filled with dreams come through.\n",
      "\n",
      "(Chorus)\n",
      "Oh, Birthday, Birthday, a time to shine,\n",
      "A tapestry of memories intertwined,\n",
      "May this day be filled with cheer and grace,\n",
      "A treasure to cherish in every space.\n",
      "\n",
      "(Verse 2)\n",
      "With candles bright and cake so grand,\n",
      "We gather here to raise our hand,\n",
      "To sing a tune, a heartfelt lay,\n",
      "For a special soul, on this special day.\n",
      "\n",
      "Happy Birthday, happy Birthday,\n",
      "With love and greetings we embrace,\n",
      "May your every step be filled with grace,\n",
      "A radiant path, a joyful pace.\n",
      "\n",
      "(Chorus)\n",
      "Oh, Birthday, Birthday, a time to shine,\n",
      "A tapestry of memories intertwined,\n",
      "May this day be filled with cheer and grace,\n",
      "A treasure to cherish in every space.\n",
      "\n",
      "(Bridge)\n",
      "Through the tapestry of time,\n",
      "May your spirit forever climb,\n",
      "With dreams fulfilled and aspirations met,\n",
      "May this year bring blessings you haven't yet.\n",
      "\n",
      "(Verse 3)\n",
      "May the sunbeam's kiss and gentle breeze,\n",
      "Whisper secrets of endless ease,\n",
      "May every hour hold a sweet surprise,\n",
      "As you navigate the skies.\n",
      "\n",
      "Happy Birthday, happy Birthday,\n",
      "May your heart be filled with cheer,\n",
      "May love and laughter always be near,\n",
      "A year that banishes all fear.\n",
      "\n",
      "(Chorus)\n",
      "Oh, Birthday, Birthday, a time to shine,\n",
      "A tapestry of memories intertwined,\n",
      "May this day be filled with cheer and grace,\n",
      "A treasure to cherish in every space.\n",
      "\n",
      "(Outro)\n",
      "In the realm of happiness and glee,\n",
      "We celebrate your destiny,\n",
      "Happy Birthday, happy Birthday,\n",
      "May your life be a radiant way.\n"
     ]
    }
   ],
   "source": [
    "print(response.text)"
   ]
  },
  {
   "cell_type": "code",
   "execution_count": 17,
   "id": "9048329f-056b-4d5a-bf18-0cd0e711ae0d",
   "metadata": {},
   "outputs": [],
   "source": [
    "def get_response(prompt):\n",
    "    response = model.generate_content(prompt)\n",
    "    print(response.text)"
   ]
  },
  {
   "cell_type": "code",
   "execution_count": 18,
   "id": "993b7519-9dc9-4b4d-b00d-ca62f481dcb8",
   "metadata": {},
   "outputs": [
    {
     "name": "stdout",
     "output_type": "stream",
     "text": [
      "**What is Generative AI?**\n",
      "\n",
      "Imagine a computer program that can create new content from scratch, like human-like text, artwork, or music. That's generative AI!\n",
      "\n",
      "**How it Works:**\n",
      "\n",
      "* **Learns from Existing Data:** Generative AI is trained on massive datasets (e.g., text, images, audio).\n",
      "* **Generates New Content:** Using this knowledge, it can create new content that resembles the training data but is unique.\n",
      "\n",
      "**Why Generative AI is Cool:**\n",
      "\n",
      "* **Textual Creations:** It can write poetry, articles, stories, and even code.\n",
      "* **Artistic Creations:** It can generate original paintings, images, and designs.\n",
      "* **Musical Creations:** It can compose music in different styles and instruments.\n",
      "* **Innovation Enhancer:** It can help designers, writers, and researchers explore new ideas and generate prototypes.\n",
      "\n",
      "**Example:**\n",
      "\n",
      "Let's say you want to generate a poem about nature. A generative AI can use its training data to create a poem that sounds like it's written by a real human, with beautiful imagery and flowing rhythm.\n",
      "\n",
      "**Benefits:**\n",
      "\n",
      "* **Content Generation:** Creates new content quickly and easily.\n",
      "* **Time-Saving:** Frees up humans to focus on more complex tasks.\n",
      "* **Creativity Booster:** Inspires new ideas and helps overcome creative blocks.\n",
      "\n",
      "**Remember:** Generative AI is still in its early stages, and the quality of its creations varies. But it holds immense potential to transform industries and empower our creativity.\n"
     ]
    }
   ],
   "source": [
    "prompt1 = 'Explain Generative ai in simple way'\n",
    "get_response(prompt1)"
   ]
  },
  {
   "cell_type": "code",
   "execution_count": null,
   "id": "bbf30cac-e682-43c1-9d04-1ea30b33bfc4",
   "metadata": {},
   "outputs": [],
   "source": []
  }
 ],
 "metadata": {
  "kernelspec": {
   "display_name": "Python 3 (ipykernel)",
   "language": "python",
   "name": "python3"
  },
  "language_info": {
   "codemirror_mode": {
    "name": "ipython",
    "version": 3
   },
   "file_extension": ".py",
   "mimetype": "text/x-python",
   "name": "python",
   "nbconvert_exporter": "python",
   "pygments_lexer": "ipython3",
   "version": "3.12.3"
  }
 },
 "nbformat": 4,
 "nbformat_minor": 5
}
