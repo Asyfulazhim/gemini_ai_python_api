{
 "cells": [
  {
   "cell_type": "markdown",
   "id": "7bc9be58-add3-4207-b5fb-7e686a0c8119",
   "metadata": {},
   "source": [
    "# Configuration Parameter \n",
    "Gemini allows to configure some parameters to change the output of the results of the model:\n",
    "1. Temperature\n",
    "2. Max Output Tokens\n",
    "3. Top K and Top p\n",
    "4. Stop Sequence\n",
    "5. Candidate Count (Currently only 1)"
   ]
  },
  {
   "cell_type": "code",
   "execution_count": 1,
   "id": "408be6f5-a55c-4314-a3e6-ae13d4b5bf60",
   "metadata": {},
   "outputs": [],
   "source": [
    "import google.generativeai as genai"
   ]
  },
  {
   "cell_type": "code",
   "execution_count": 2,
   "id": "9dbe7c0b-d3a2-4361-9419-81beae276aa3",
   "metadata": {},
   "outputs": [],
   "source": [
    "api_key = ''"
   ]
  },
  {
   "cell_type": "code",
   "execution_count": 3,
   "id": "f9adbaaf-d2d8-4db5-afd6-b8afb5d51be6",
   "metadata": {},
   "outputs": [],
   "source": [
    "genai.configure(api_key=api_key)"
   ]
  },
  {
   "cell_type": "code",
   "execution_count": 4,
   "id": "daf9205a-d2fd-46d0-82a1-e9f7d6f686cd",
   "metadata": {},
   "outputs": [],
   "source": [
    "model = genai.GenerativeModel('gemini-pro')"
   ]
  },
  {
   "cell_type": "markdown",
   "id": "a6c61500-038a-490d-a913-9abbaf118019",
   "metadata": {},
   "source": [
    "Create Generation Configuration Object\n",
    "* Temperature: Higher temperature, more creative result\n",
    "* Max output tokens: the lower value, the shorter the output"
   ]
  },
  {
   "cell_type": "code",
   "execution_count": 5,
   "id": "27d3b859-4b92-4da6-922b-30828b6641e8",
   "metadata": {},
   "outputs": [],
   "source": [
    "config = genai.types.GenerationConfig(temperature=1.0, max_output_tokens=2000)"
   ]
  },
  {
   "cell_type": "code",
   "execution_count": 6,
   "id": "8e8363fe-f486-4e75-8016-5097d8e843a4",
   "metadata": {},
   "outputs": [],
   "source": [
    "def get_response(prompt,generation_config):\n",
    "    response = model.generate_content(contents=prompt, generation_config=generation_config)\n",
    "    return response"
   ]
  },
  {
   "cell_type": "code",
   "execution_count": 7,
   "id": "60eaa7d5-8e3b-4cb4-bdb0-2d43d226e654",
   "metadata": {},
   "outputs": [
    {
     "name": "stdout",
     "output_type": "stream",
     "text": [
      "**Stars**\n",
      "\n",
      "**Definition:**\n",
      "Stars are massive, self-luminous celestial objects that emit energy through thermonuclear fusion reactions in their cores. They are composed primarily of hydrogen and helium and are the fundamental building blocks of galaxies.\n",
      "\n",
      "**Characteristics:**\n",
      "\n",
      "* **Mass:** Stars range in mass from about 0.08 solar masses (similar to planets) to over 100 solar masses (supergiant stars).\n",
      "* **Radius:** Stars can be extremely small (neutron stars with radii of a few kilometers) or very large (red supergiants with radii up to 1000 times that of the Sun).\n",
      "* **Temperature:** Surface temperatures range from around 2,000 K for cool red dwarfs to over 50,000 K for hot blue supergiants.\n",
      "* **Luminosity:** Stars vary greatly in luminosity, with some emitting thousands of times more light than the Sun (bright giants) and others barely detectable (faint dwarfs).\n",
      "* **Color:** The color of a star is determined by its surface temperature, with blue stars being the hottest and red stars the coolest.\n",
      "\n",
      "**Life Cycle:**\n",
      "\n",
      "Stars undergo a predictable set of stages throughout their lifetimes:\n",
      "\n",
      "* **Birth:** Stars form in regions of dense gas and dust (nebulae), where gravitational collapse triggers thermonuclear reactions.\n",
      "* **Main Sequence:** The majority of stars spend their lives in the main sequence stage, where hydrogen fuses into helium in their cores, providing energy and stability.\n",
      "* **Red Giant Branch:** After exhausting their hydrogen fuel, stars swell and cool, becoming red giants.\n",
      "* **AGB Phase (Asymptotic Giant Branch):** For more massive stars, an advanced stage occurs during which elements beyond helium are fused in their cores.\n",
      "* **Supernova (for massive stars):** When massive stars reach their iron cores, they explode as supernovae, releasing vast amounts of energy and matter.\n",
      "* **White Dwarf, Neutron Star, or Black Hole:** The remnants of stars can evolve into white dwarfs (collapsed cores of low-mass stars), neutron stars (collapsed cores of high-mass stars), or black holes (extremely dense, collapsed cores).\n",
      "\n",
      "**Classification:**\n",
      "\n",
      "* **Spectral Type:** Stars are classified based on their surface temperatures and spectra into the OBAFGKM sequence (hottest to coolest).\n",
      "* **Luminosity Class:** Stars are also categorized into luminosity classes (I to V) based on their absolute brightness, which reflects their size and temperature.\n",
      "\n",
      "**Significance:**\n",
      "\n",
      "Stars play a crucial role in the universe:\n",
      "* Provide light and heat for planets.\n",
      "* Create elements heavier than helium through fusion reactions.\n",
      "* Shape the structure and evolution of galaxies.\n",
      "* Allow for the emergence of life through the formation of habitable planets.\n"
     ]
    }
   ],
   "source": [
    "result = get_response('tell me about the star', config)\n",
    "print(result.text)"
   ]
  },
  {
   "cell_type": "code",
   "execution_count": 8,
   "id": "8471701c-1cf4-4b04-a3c8-0f051f9d9d6c",
   "metadata": {},
   "outputs": [
    {
     "data": {
      "text/plain": [
       "'**Stars**\\n\\n**Definition:**\\nStars are massive, self-luminous celestial objects that emit energy through thermonuclear fusion reactions in their cores. They are composed primarily of hydrogen and helium and are the fundamental building blocks of galaxies.\\n\\n**Characteristics:**\\n\\n* **Mass:** Stars range in mass from about 0.08 solar masses (similar to planets) to over 100 solar masses (supergiant stars).\\n* **Radius:** Stars can be extremely small (neutron stars with radii of a few kilometers) or very large (red supergiants with radii up to 1000 times that of the Sun).\\n* **Temperature:** Surface temperatures range from around 2,000 K for cool red dwarfs to over 50,000 K for hot blue supergiants.\\n* **Luminosity:** Stars vary greatly in luminosity, with some emitting thousands of times more light than the Sun (bright giants) and others barely detectable (faint dwarfs).\\n* **Color:** The color of a star is determined by its surface temperature, with blue stars being the hottest and red stars the coolest.\\n\\n**Life Cycle:**\\n\\nStars undergo a predictable set of stages throughout their lifetimes:\\n\\n* **Birth:** Stars form in regions of dense gas and dust (nebulae), where gravitational collapse triggers thermonuclear reactions.\\n* **Main Sequence:** The majority of stars spend their lives in the main sequence stage, where hydrogen fuses into helium in their cores, providing energy and stability.\\n* **Red Giant Branch:** After exhausting their hydrogen fuel, stars swell and cool, becoming red giants.\\n* **AGB Phase (Asymptotic Giant Branch):** For more massive stars, an advanced stage occurs during which elements beyond helium are fused in their cores.\\n* **Supernova (for massive stars):** When massive stars reach their iron cores, they explode as supernovae, releasing vast amounts of energy and matter.\\n* **White Dwarf, Neutron Star, or Black Hole:** The remnants of stars can evolve into white dwarfs (collapsed cores of low-mass stars), neutron stars (collapsed cores of high-mass stars), or black holes (extremely dense, collapsed cores).\\n\\n**Classification:**\\n\\n* **Spectral Type:** Stars are classified based on their surface temperatures and spectra into the OBAFGKM sequence (hottest to coolest).\\n* **Luminosity Class:** Stars are also categorized into luminosity classes (I to V) based on their absolute brightness, which reflects their size and temperature.\\n\\n**Significance:**\\n\\nStars play a crucial role in the universe:\\n* Provide light and heat for planets.\\n* Create elements heavier than helium through fusion reactions.\\n* Shape the structure and evolution of galaxies.\\n* Allow for the emergence of life through the formation of habitable planets.'"
      ]
     },
     "execution_count": 8,
     "metadata": {},
     "output_type": "execute_result"
    }
   ],
   "source": [
    "result.candidates[0].content.parts[0].text"
   ]
  },
  {
   "cell_type": "markdown",
   "id": "54c3abc7-2ede-481a-82db-fd413a079d7c",
   "metadata": {},
   "source": [
    "## Gemini LLM Configuration Parameters\n",
    "\n",
    "### Temperature\n",
    "In Gemini LLM, the `temperature` parameter plays a crucial role in the response generation process. It's instrumental during the sampling phase, particularly when `top_p` and `top_k` parameters are in effect. Essentially, `temperature` influences the randomness in token selection:\n",
    "\n",
    "- **Low temperatures** are optimal for prompts necessitating deterministic, concise, and less creative responses.\n",
    "- **High temperatures** foster diverse and creative outcomes, enhancing the model's response variability.\n",
    "\n",
    "    - **Range**: `0.0 - 1.0`\n",
    "    - **Default Settings**:\n",
    "        - **gemini-pro**: `0.9`\n",
    "        - **gemini-pro-vision**: `0.4`"
   ]
  },
  {
   "cell_type": "code",
   "execution_count": 9,
   "id": "c00c8891-1fba-4d22-9c70-5febd775ee57",
   "metadata": {},
   "outputs": [
    {
     "name": "stdout",
     "output_type": "stream",
     "text": [
      "**Stars**\n",
      "\n",
      "Stars are massive, luminous celestial bodies that emit light and heat through nuclear fusion reactions in their cores. They are the fundamental building blocks of galaxies and play a crucial role in the evolution of the universe.\n",
      "\n",
      "**Characteristics:**\n",
      "\n",
      "* **Mass:** Stars range in mass from about 0.08 solar masses (the mass of our Sun) to over 100 solar masses.\n",
      "* **Radius:** Stars also vary in size, with radii ranging from a few kilometers to hundreds of solar radii.\n",
      "* **Temperature:** The surface temperature of stars can reach millions of degrees Celsius.\n",
      "* **Luminosity:** Stars emit vast amounts of energy in the form of light and heat. Their luminosity can vary greatly, from a few times the Sun's luminosity to billions of times brighter.\n",
      "* **Color:** The color of a star is determined by its surface temperature. Hotter stars appear blue or white, while cooler stars appear orange or red.\n",
      "\n",
      "**Life Cycle:**\n",
      "\n",
      "Stars undergo a series of evolutionary stages throughout their lifetimes:\n",
      "\n",
      "* **Protostar:** A dense cloud of gas and dust that collapses under its own gravity, forming a protostar.\n",
      "* **Main Sequence Star:** The protostar ignites nuclear fusion in its core, becoming a main sequence star. This is the longest and most stable phase of a star's life.\n",
      "* **Red Giant:** As the star exhausts its hydrogen fuel, it expands and cools, becoming a red giant.\n",
      "* **Supernova:** For massive stars, the end of their lives is marked by a supernova explosion, which releases a tremendous amount of energy and heavy elements.\n",
      "* **Neutron Star or Black Hole:** After a supernova, the remaining core of the star can collapse into a neutron star or a black hole, depending on its mass.\n",
      "\n",
      "**Types of Stars:**\n",
      "\n",
      "Stars are classified into different types based on their spectral characteristics and evolutionary stages:\n",
      "\n",
      "* **O-Stars:** Hottest and most luminous stars, with surface temperatures exceeding 30,000 K.\n",
      "* **B-Stars:** Blue-white stars with surface temperatures between 10,000 and 30,000 K.\n",
      "* **A-Stars:** White stars with surface temperatures between 7,500 and 10,000 K.\n",
      "* **F-Stars:** Yellow-white stars with surface temperatures between 6,000 and 7,500 K.\n",
      "* **G-Stars:** Yellow stars like our Sun, with surface temperatures between 5,200 and 6,000 K.\n",
      "* **K-Stars:** Orange stars with surface temperatures between 3,700 and 5,200 K.\n",
      "* **M-Stars:** Red stars, the most common type of star, with surface temperatures below 3,700 K.\n",
      "\n",
      "**Importance:**\n",
      "\n",
      "Stars play a vital role in the universe:\n",
      "\n",
      "* **Energy Source:** Stars provide the energy that sustains life on Earth and other planets.\n",
      "* **Element Formation:** Nuclear fusion reactions in stars create heavy elements that are essential for life and the formation of planets.\n",
      "* **Cosmic Evolution:** Stars are the building blocks of galaxies and play a crucial role in the evolution of the universe.\n"
     ]
    }
   ],
   "source": [
    "config1 = genai.types.GenerationConfig(temperature=0.2)\n",
    "result1 = get_response('tell me about the star', config1)\n",
    "print(result1.text)"
   ]
  },
  {
   "cell_type": "code",
   "execution_count": 10,
   "id": "33739602-0b27-42df-acbd-d108d977f462",
   "metadata": {},
   "outputs": [
    {
     "name": "stdout",
     "output_type": "stream",
     "text": [
      "**Stars: Celestial Luminous Spheres**\n",
      "\n",
      "Stars are gigantic celestial bodies consisting primarily of hydrogen and helium. They produce their own heat and light through nuclear fusion reactions in their cores.\n",
      "\n",
      "**Structure and Properties:**\n",
      "\n",
      "* **Core:** The innermost and hottest part of a star, where nuclear fusion occurs.\n",
      "* **Radiative Zone:** A layer surrounding the core where energy is transported outward by photons.\n",
      "* **Convective Zone:** A layer where energy is transported by the movement of hot plasma.\n",
      "* **Photosphere:** The visible outer layer of a star, where light is emitted.\n",
      "\n",
      "**Classification:**\n",
      "\n",
      "Stars are classified based on their spectral type and luminosity:\n",
      "\n",
      "* **Spectral Type:** Indicates the temperature and chemical composition of a star's photosphere (from hottest to coolest): O, B, A, F, G, K, and M.\n",
      "* **Luminosity Class:** Indicates the star's luminosity compared to the Sun (in descending order of brightness): I (supergiants), II (bright giants), III (giants), IV (subgiants), V (main sequence stars), and VII (white dwarfs).\n",
      "\n",
      "**Evolution:**\n",
      "\n",
      "Stars evolve through different stages as they consume their nuclear fuel:\n",
      "\n",
      "* **Main Sequence:** Stars spend most of their lives on the main sequence, fusing hydrogen into helium in their cores.\n",
      "* **Giant Stage:** As hydrogen in the core depletes, stars expand and become giants or supergiants, fusing heavier elements.\n",
      "* **Supernova/Neutron Star/Black Hole:** For massive stars, the end of their lives can be marked by a supernova explosion, leaving behind a neutron star or a black hole.\n",
      "\n",
      "**Importance:**\n",
      "\n",
      "Stars are essential for life on Earth:\n",
      "\n",
      "* **Energy Source:** The Sun provides the Earth with warmth, light, and energy for plants.\n",
      "* **Foundation of Elements:** Stars produce the heavier elements that make up everything in the universe, including human beings.\n",
      "* **Navigation:** Stars have been used for centuries for navigation and timekeeping.\n",
      "\n",
      "**Fascinating Facts:**\n",
      "\n",
      "* The Sun is the closest star to Earth and is a main sequence star of spectral type G2V.\n",
      "* The largest known star is VY Canis Majoris, which has a radius over 1,500 times that of the Sun.\n",
      "* Polaris, the North Star, is a triple star system that has been used as a guiding star for centuries.\n",
      "* Stars can have ages ranging from millions to billions of years.\n"
     ]
    }
   ],
   "source": [
    "config2 = genai.types.GenerationConfig(temperature=1.0)\n",
    "result2 = get_response('tell me about the star', config2)\n",
    "print(result2.text)"
   ]
  },
  {
   "cell_type": "markdown",
   "id": "6873e0b1-e857-451f-8db6-ba20745ffe2c",
   "metadata": {},
   "source": [
    "### max_output_tokens\n",
    "The `max_output_tokens` parameter defines the upper limit of tokens generated in a response. Notably, a token approximates four characters, translating to about 60-80 words for 100 tokens. Adjust this parameter based on the desired response length:\n",
    "\n",
    "- **Lower values** lead to shorter responses.\n",
    "- **Higher values** enable more extensive responses.\n",
    "\n",
    "    - **Ranges**:\n",
    "        - **gemini-pro**: `1-8192` (default: `8192`)\n",
    "        - **gemini-pro-vision**: `1-2048` (default: `2048`)"
   ]
  },
  {
   "cell_type": "code",
   "execution_count": 11,
   "id": "7019bccd-f283-418a-a482-1112da32ed36",
   "metadata": {},
   "outputs": [
    {
     "name": "stdout",
     "output_type": "stream",
     "text": [
      "**United States of America (USA)**\n",
      "\n",
      "**General Information:**\n",
      "\n",
      "* Located in North America\n",
      "* Third largest country by land area\n",
      "* Population: Over 330 million\n",
      "* Official language: English\n",
      "* Capital: Washington, D.C.\n",
      "* Currency: US dollar ($)\n",
      "\n",
      "**History:**\n",
      "\n",
      "* Claimed by European explorers in the 15th century\n",
      "* Colonized by Great Britain in the 17th century\n",
      "* Declared independence in 1776 after the American Revolutionary War\n",
      "* Expanded westward through the 19th century\n",
      "* Became a global superpower in the 20th century\n",
      "\n",
      "**Geography:**\n",
      "\n",
      "* Diverse landscape: mountains, deserts, forests, plains, coastline\n",
      "* Major rivers: Mississippi River, Ohio River, Rio Grande\n",
      "* Highest point: Mount McKinley, Alaska\n",
      "* Lowest point: Death Valley, California\n",
      "\n",
      "**Economy:**\n",
      "\n",
      "* Largest economy in the world\n",
      "* Based on services, manufacturing, agriculture, and technology\n",
      "* Major industries: healthcare, finance, energy, automotive\n",
      "\n",
      "**Government:**\n",
      "\n",
      "* Federal republic\n",
      "* Three branches: executive (president), legislative (Congress), and judicial (Supreme Court)\n",
      "* Bicameral legislature: Senate and House of Representatives\n",
      "\n",
      "**Culture:**\n",
      "\n",
      "* Diverse and multicultural\n",
      "* Influence from European, African, Asian, and Native American cultures\n",
      "* Famous for its entertainment, music, and sports\n",
      "* Symbolism: Stars and Stripes (flag), Bald Eagle, Statue of Liberty\n",
      "\n",
      "**Military:**\n",
      "\n",
      "* World's strongest military\n",
      "* Largest military budget\n",
      "* Equipped with advanced technology and weapons\n",
      "\n",
      "**Other Notable Facts:**\n",
      "\n",
      "* National anthem: \"The Star-Spangled Banner\"\n",
      "* National motto: \"E Pluribus Unum\" (Out of many, one)\n",
      "* National animal: American Bison\n",
      "* National bird: Bald Eagle\n",
      "* National day: Independence Day (July 4th)\n"
     ]
    }
   ],
   "source": [
    "config = genai.types.GenerationConfig(max_output_tokens=500)\n",
    "result = get_response(\"Tell me about the United States\",generation_config=config)\n",
    "print(result.text)"
   ]
  },
  {
   "cell_type": "markdown",
   "id": "144bceb6-14ed-4acf-9e54-d05dcf90560d",
   "metadata": {},
   "source": [
    "### top_k\n",
    "`top_k` parameter influences the model's token selection strategy for generating outputs. It's a measure of how many of the most probable tokens are considered at each step:\n",
    "\n",
    "- A **top_k of 1** implies a deterministic approach, choosing the most probable token.\n",
    "- Higher **top_k values** introduce diversity, selecting from a broader range of probable tokens based on the set `temperature`.\n",
    "\n",
    "    - **Range**: `1-40`\n",
    "    - **Default Settings**:\n",
    "        - **gemini-pro-vision**: `32`\n",
    "        - **gemini-pro**: Not specified (none)"
   ]
  },
  {
   "cell_type": "code",
   "execution_count": 12,
   "id": "98de616a-8333-4317-b3d8-f624afca6799",
   "metadata": {},
   "outputs": [
    {
     "name": "stdout",
     "output_type": "stream",
     "text": [
      "**Kuala Lumpur: The Thriving Capital of Malaysia**\n",
      "\n",
      "Kuala Lumpur (KL), the capital and largest city of Malaysia, is a vibrant metropolis renowned for its towering skyscrapers, lush green spaces, and diverse cultural heritage.\n",
      "\n",
      "**Geography and Climate:**\n",
      "\n",
      "* Located at the confluence of the Klang and Gombak Rivers.\n",
      "* Tropical rainforest climate with abundant rainfall throughout the year.\n",
      "* Average temperatures range from 24°C to 32°C.\n",
      "\n",
      "**Population and Culture:**\n",
      "\n",
      "* Population: Approximately 1.8 million within the city proper, and over 7.7 million in the Greater Kuala Lumpur area.\n",
      "* Melting pot of cultures, including Malay, Chinese, Indian, and numerous indigenous communities.\n",
      "* Official languages: Malay, English, and Chinese dialects are widely spoken.\n",
      "\n",
      "**Landmarks and Attractions:**\n",
      "\n",
      "* **Petronas Twin Towers:** Iconic twin skyscrapers known for their distinctive design and breathtaking views.\n",
      "* **Menara KL Tower:** A 421-meter-tall telecommunications tower offering panoramic views of the city.\n",
      "* **Batu Caves:** A sacred Hindu temple cave complex renowned for its intricate limestone formations and annual Thaipusam festival.\n",
      "* **Suria KLCC:** A world-class shopping mall located at the foot of the Petronas Twin Towers.\n",
      "* **KLCC Park:** A lush urban park featuring a serene lake, jogging trails, and numerous sculptures.\n",
      "\n",
      "**Economy and Infrastructure:**\n",
      "\n",
      "* A major economic hub of Southeast Asia, with a diversified economy focusing on finance, manufacturing, and tourism.\n",
      "* Excellent public transportation system, including an efficient light rail system and bus network.\n",
      "* Kuala Lumpur International Airport (KLIA) is one of the busiest airports in Asia.\n",
      "\n",
      "**Education and Universities:**\n",
      "\n",
      "* Home to several prestigious universities, including the University of Malaya, Universiti Teknologi Malaysia, and Universiti Kebangsaan Malaysia.\n",
      "* Offers a wide range of educational opportunities in various fields.\n",
      "\n",
      "**Nightlife and Entertainment:**\n",
      "\n",
      "* Vibrant nightlife scene with a plethora of bars, clubs, and live music venues.\n",
      "* Numerous entertainment options, including movie theaters, shopping malls, and theme parks.\n",
      "* The Changkat Bukit Bintang and Jalan P. Ramlee areas are popular entertainment hubs.\n",
      "\n",
      "**Food and Culture:**\n",
      "\n",
      "* Kuala Lumpur is a culinary paradise, offering a diverse range of cuisines from all over Malaysia and the region.\n",
      "* Popular dishes include nasi lemak, satay, char kway teow, and curry laksa.\n",
      "* The city is also home to thriving arts and cultural scene with numerous museums, art galleries, and theaters.\n"
     ]
    }
   ],
   "source": [
    "config = genai.types.GenerationConfig(top_k=1)\n",
    "result = get_response(\"Tell me about Kuala Lumpur\",generation_config=config)\n",
    "print(result.text)"
   ]
  },
  {
   "cell_type": "code",
   "execution_count": 13,
   "id": "aebb801c-dc28-4839-bbd6-fbcb9315258c",
   "metadata": {},
   "outputs": [
    {
     "name": "stdout",
     "output_type": "stream",
     "text": [
      "**Kuala Lumpur (KL)**\n",
      "\n",
      "**Capital City of Malaysia**\n",
      "\n",
      "**History:**\n",
      "\n",
      "* Founded in 1857 by tin miners\n",
      "* Became the capital of the Federated Malay States in 1895\n",
      "* Gained independence from British rule in 1957\n",
      "\n",
      "**Geography:**\n",
      "\n",
      "* Located in central Peninsular Malaysia\n",
      "* Situated at the confluence of the Klang and Gombak rivers\n",
      "* Surrounded by lush rainforest and mountains\n",
      "\n",
      "**Demographics:**\n",
      "\n",
      "* Population of approximately 1.9 million (2020)\n",
      "* Multi-ethnic population: Malay, Chinese, Indian, and others\n",
      "\n",
      "**Economy:**\n",
      "\n",
      "* Major financial and economic hub of Southeast Asia\n",
      "* Key sectors: finance, tourism, manufacturing, and technology\n",
      "* Home to the iconic Petronas Towers, the tallest twin towers in the world\n",
      "\n",
      "**Culture:**\n",
      "\n",
      "* Vibrant and diverse cultural blend\n",
      "* Influences from Malay, Chinese, Indian, and Western cultures\n",
      "* Known for its street food, multicultural festivals, and arts scene\n",
      "\n",
      "**Architecture:**\n",
      "\n",
      "* Mix of modern skyscrapers and colonial-era buildings\n",
      "* Notable landmarks include:\n",
      "    * Petronas Towers\n",
      "    * KLCC Park\n",
      "    * Merdeka Square\n",
      "    * Sultan Abdul Samad Building\n",
      "\n",
      "**Tourism:**\n",
      "\n",
      "* Major tourist destination with numerous attractions, including:\n",
      "    * Batu Caves\n",
      "    * Genting Highlands\n",
      "    * Sunway Lagoon\n",
      "    * Kuala Lumpur Bird Park\n",
      "\n",
      "**Transportation:**\n",
      "\n",
      "* Well-connected by air (Kuala Lumpur International Airport)\n",
      "* Efficient public transportation system, including the LRT, MRT, and monorail\n",
      "\n",
      "**Interesting Facts:**\n",
      "\n",
      "* The name \"Kuala Lumpur\" means \"muddy river mouth\" in Malay.\n",
      "* The city was once known for its rubber plantations.\n",
      "* Kuala Lumpur is a green city with numerous parks and gardens.\n",
      "* It is home to the largest indoor butterfly park in the world.\n",
      "* The city hosts the annual Formula 1 Malaysian Grand Prix.\n"
     ]
    }
   ],
   "source": [
    "config = genai.types.GenerationConfig(top_k=40)\n",
    "result = get_response(\"Tell me about Kuala Lumpur\",generation_config=config)\n",
    "print(result.text)"
   ]
  },
  {
   "cell_type": "markdown",
   "id": "9a021196-775a-4de6-b481-079d0db372eb",
   "metadata": {},
   "source": [
    "### top_p\n",
    "The `top_p` parameter, akin to `top_k`, modifies the token selection process. It considers tokens from the most to least probable, cumulatively, until their probabilities match the `top_p` value. The model then selects the next token within this subset, guided by the `temperature` parameter:\n",
    "\n",
    "- **Lower `top_p` values** lead to more predictable responses.\n",
    "- **Higher `top_p` values** permit a wider array of potential responses, injecting randomness.\n",
    "\n",
    "    - **Range**: `0.0 - 1.0`\n",
    "    - **Default**: `1.0`"
   ]
  },
  {
   "cell_type": "code",
   "execution_count": 14,
   "id": "f1cdcc36-7b06-49d3-880a-f45a3629229e",
   "metadata": {},
   "outputs": [
    {
     "name": "stdout",
     "output_type": "stream",
     "text": [
      "**Taiping, Perak, Malaysia**\n",
      "\n",
      "**History:**\n",
      "\n",
      "* Founded in 1848 by Chinese miners during the Perak War.\n",
      "* Became a major tin mining center and a prosperous town.\n",
      "* Served as the capital of Perak from 1876 to 1937.\n",
      "\n",
      "**Geography:**\n",
      "\n",
      "* Located in the Larut, Matang, and Selama district of Perak.\n",
      "* Situated in a valley surrounded by limestone hills.\n",
      "* Has a tropical rainforest climate with abundant rainfall.\n",
      "\n",
      "**Population:**\n",
      "\n",
      "* Approximately 240,000 residents (2020).\n",
      "* Multi-ethnic population, including Chinese, Malays, Indians, and others.\n",
      "\n",
      "**Economy:**\n",
      "\n",
      "* Historically based on tin mining, but has diversified into other industries.\n",
      "* Current economic activities include:\n",
      "    * Tourism\n",
      "    * Manufacturing\n",
      "    * Agriculture\n",
      "    * Services\n",
      "\n",
      "**Culture and Heritage:**\n",
      "\n",
      "* Known as the \"City of Lakes\" due to its numerous lakes and ponds.\n",
      "* Home to several historical landmarks, including:\n",
      "    * Taiping Lake Gardens\n",
      "    * Perak Museum\n",
      "    * Taiping Zoo\n",
      "* Has a vibrant cultural scene with festivals, performances, and exhibitions.\n",
      "\n",
      "**Tourism:**\n",
      "\n",
      "* A popular tourist destination for its natural beauty, historical sites, and cultural attractions.\n",
      "* Key tourist attractions include:\n",
      "    * Taiping Lake Gardens: A sprawling park with a lake, gardens, and a bird sanctuary.\n",
      "    * Perak Museum: A museum showcasing the history and culture of Perak.\n",
      "    * Taiping Zoo: A zoo housing a variety of animals, including tigers, elephants, and orangutans.\n",
      "    * Maxwell Hill: A hilltop resort with panoramic views of the surrounding area.\n",
      "\n",
      "**Transportation:**\n",
      "\n",
      "* Connected by road, rail, and air.\n",
      "* Has an airport (Sultan Azlan Shah Airport) with flights to major cities in Malaysia.\n",
      "* Served by the North-South Expressway and the KTM Komuter train line.\n",
      "\n",
      "**Other Notable Features:**\n",
      "\n",
      "* Home to the Taiping War Cemetery, the final resting place of British and Commonwealth soldiers who died during World War II.\n",
      "* Has a strong education system with several universities and colleges.\n",
      "* Known for its delicious local cuisine, including \"Taiping noodles\" and \"Taiping satay.\"\n"
     ]
    }
   ],
   "source": [
    "config = genai.types.GenerationConfig(top_p=0)\n",
    "result = get_response(\"Tell me about Taiping\",generation_config=config)\n",
    "print(result.text)"
   ]
  },
  {
   "cell_type": "code",
   "execution_count": 15,
   "id": "6ef3a044-c3a7-454f-a6f5-73d5625f2e85",
   "metadata": {},
   "outputs": [
    {
     "name": "stdout",
     "output_type": "stream",
     "text": [
      "**Taiping**\n",
      "\n",
      "**Overview:**\n",
      "\n",
      "Taiping is a city in the state of Perak, Malaysia. Located approximately 40 kilometers from the state capital, Ipoh, it is known for its rich history, peaceful atmosphere, and scenic surroundings.\n",
      "\n",
      "**History:**\n",
      "\n",
      "* Founded in 1848 as a mining settlement.\n",
      "* Became the capital of Perak from 1876 to 1937.\n",
      "* Played a significant role in the Perak War (1875-1876).\n",
      "\n",
      "**Culture and Heritage:**\n",
      "\n",
      "* Home to the Larut Matang District Museum, which showcases the mining and cultural heritage of the region.\n",
      "* Features numerous historical buildings, including the Taiping Prison and the Japanese Cemetery.\n",
      "* Known for its Hakka cuisine, particularly the famous Taiping fried noodles.\n",
      "\n",
      "**Tourism:**\n",
      "\n",
      "* **Lake Gardens:** A sprawling park with a variety of attractions, including a zoo, a bird sanctuary, and a boating lake.\n",
      "* **Maximus Wonderland:** A theme park with rides, water slides, and other entertainment options.\n",
      "* **Taiping Zoo:** Home to a wide range of animals, including elephants, tigers, and primates.\n",
      "* **Taiping War Cemetery:** A memorial to the British and Commonwealth soldiers who died during World War II.\n",
      "\n",
      "**Amenities:**\n",
      "\n",
      "* Well-developed infrastructure, including hospitals, schools, and shopping malls.\n",
      "* Peaceful and safe environment, making it ideal for families and retirees.\n",
      "* Excellent transportation links to major cities via road and rail.\n",
      "\n",
      "**Other Notable Features:**\n",
      "\n",
      "* Known as the \"Raintown\" due to its frequent rainfall.\n",
      "* Home to the Perak State Art Gallery, showcasing Malaysian contemporary art.\n",
      "* Surrounded by picturesque hills and valleys, offering panoramic views.\n"
     ]
    }
   ],
   "source": [
    "config = genai.types.GenerationConfig(top_p=1)\n",
    "result = get_response(\"Tell me about Taiping\",generation_config=config)\n",
    "print(result.text)"
   ]
  },
  {
   "cell_type": "markdown",
   "id": "93ccd42f-e0ab-4bd4-9e46-3e3b29825ca2",
   "metadata": {},
   "source": [
    "### candidate_count\n",
    "The `candidate_count` parameter determines the quantity of different response variations the model generates. For Gemini LLM, this value is fixed:\n",
    "\n",
    "- **Required Value**: `1`\n",
    "\n",
    "**IMPORTANT NOTE: AT THIS TIME, YOU ARE ONLY ALLOWED ONE CANDIDATE, BUT CHECK THE OFFICIAL DOCS FOR AN UPDATE IN THE FUTURE!**"
   ]
  },
  {
   "cell_type": "code",
   "execution_count": 16,
   "id": "1203c444-a1cc-4681-8d26-0d0a37fe5937",
   "metadata": {},
   "outputs": [
    {
     "name": "stdout",
     "output_type": "stream",
     "text": [
      "1. **\"Hill Station of Malaya\":** Taiping was established as a hill station in the 1880s to provide a cooler retreat for British colonial officials from the heat and humidity of Penang.\n",
      "\n",
      "2. **Mining Heritage:** Taiping was once the center of the tin mining industry in Malaya. The Larut Wars (1862-1874), sparked by disputes over tin rights, led to the establishment of British rule in the area.\n",
      "\n",
      "3. **Lake Gardens:** Taiping is renowned for its beautiful Lake Gardens, a sprawling public park established in 1880. The gardens feature a picturesque lake, lush greenery, and a variety of recreational activities, including boating and jogging.\n"
     ]
    }
   ],
   "source": [
    "config = genai.types.GenerationConfig(candidate_count=1)\n",
    "result = get_response(\"Give me 3 top facts about Taiping\",generation_config=config)\n",
    "print(result.text)"
   ]
  },
  {
   "cell_type": "markdown",
   "id": "7b93c157-4d3e-4616-8f3e-de561510ae2b",
   "metadata": {},
   "source": [
    "### stop_sequences\n",
    "`stop_sequences` is a feature allowing the specification of strings that prompt the model to cease text generation. The response is truncated at the first occurrence of any listed string. This feature is sensitive to the case of the strings:\n",
    "\n",
    "- **Usage Example**: If \"Str\" and \"reverse\" are in `stop_sequences`, the model stops generating text at their first appearance.\n",
    "- **Limitation**: A maximum of 5 strings can be listed in `stop_sequences`."
   ]
  },
  {
   "cell_type": "code",
   "execution_count": 17,
   "id": "9e9170bd-635c-42df-a911-4ec91e1bdf56",
   "metadata": {
    "scrolled": true
   },
   "outputs": [
    {
     "name": "stdout",
     "output_type": "stream",
     "text": [
      "**Characteristics of Stars:**\n",
      "\n",
      "* **Celestial Bodies:** Stars are massive, self-luminous orbs that shine in the night sky.\n",
      "* **Composition:** Primarily composed of hydrogen and helium, with traces of heavier elements.\n",
      "* **Size and Mass:** They range in size from tiny red dwarfs to massive blue supergiants, with masses varying from a fraction of the Sun's mass to hundreds of solar masses.\n",
      "* **Luminosity:** Stars vary greatly in brightness, from faint stars that are barely visible to brilliant stars that outshine the Sun thousands of times.\n",
      "* **Temperature:** Surface temperatures range from a few thousand to tens of thousands of degrees Celsius, influencing the star's color and spectral type.\n",
      "\n",
      "**Life Cycle of Stars:**\n",
      "\n",
      "* **Protostar:** \n"
     ]
    }
   ],
   "source": [
    "config3 = genai.types.GenerationConfig(stop_sequences='A')\n",
    "result3 = get_response('tell me about the star', config3)\n",
    "print(result3.text)"
   ]
  },
  {
   "cell_type": "code",
   "execution_count": 18,
   "id": "753f56b0-61d9-4f0f-9732-504498f7809c",
   "metadata": {},
   "outputs": [
    {
     "name": "stdout",
     "output_type": "stream",
     "text": [
      "Dear [Customer Name],\n",
      "\n",
      "Thank you for your recent purchase of our [shirt name] shirt from [website/store name]! We're thrilled to have you as a customer.\n",
      "\n",
      "We hope you love your new shirt as much as we do. It's crafted from high-quality materials and designed with style and comfort in mind.\n",
      "\n",
      "We appreciate your trust in our brand and strive to provide you with the best possible shopping experience. Your satisfaction is our top priority.\n",
      "\n",
      "If you have any questions or need assistance, please don't hesitate to contact us. We're always here to help.\n",
      "\n",
      "We hope you enjoy wearing your new shirt and look forward to serving you again in the future.\n",
      "\n",
      "\n"
     ]
    }
   ],
   "source": [
    "config4 = genai.types.GenerationConfig(stop_sequences=['Sincerely'])\n",
    "result4 = get_response('write an email to thanks to customer for purchasing our shirt', config4)\n",
    "print(result4.text)"
   ]
  },
  {
   "cell_type": "code",
   "execution_count": 19,
   "id": "6cc87bb7-3f5f-4615-a4d1-a2f1720585b7",
   "metadata": {},
   "outputs": [
    {
     "name": "stdout",
     "output_type": "stream",
     "text": [
      "* A\n",
      "* B\n",
      "* C\n",
      "* D\n",
      "* E\n",
      "* F\n",
      "* G\n",
      "* H\n",
      "* I\n",
      "* J\n",
      "* K\n",
      "* L\n",
      "* M\n",
      "* N\n",
      "* O\n",
      "* P\n",
      "* Q\n",
      "* R\n",
      "* S\n",
      "* T\n",
      "* U\n",
      "* V\n",
      "* W\n",
      "* \n"
     ]
    }
   ],
   "source": [
    "config = genai.types.GenerationConfig(stop_sequences=['x','X'])\n",
    "result = get_response(\"Give me a list of all the letters in the alphabet\",generation_config=config)\n",
    "print(result.text)"
   ]
  },
  {
   "cell_type": "code",
   "execution_count": null,
   "id": "682cdd2e-532c-4bf0-a0c0-e36a5cdfb6df",
   "metadata": {},
   "outputs": [],
   "source": []
  }
 ],
 "metadata": {
  "kernelspec": {
   "display_name": "Python 3 (ipykernel)",
   "language": "python",
   "name": "python3"
  },
  "language_info": {
   "codemirror_mode": {
    "name": "ipython",
    "version": 3
   },
   "file_extension": ".py",
   "mimetype": "text/x-python",
   "name": "python",
   "nbconvert_exporter": "python",
   "pygments_lexer": "ipython3",
   "version": "3.12.3"
  }
 },
 "nbformat": 4,
 "nbformat_minor": 5
}
